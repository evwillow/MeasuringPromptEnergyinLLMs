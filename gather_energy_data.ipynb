{
 "cells": [
  {
   "cell_type": "markdown",
   "id": "5844de77",
   "metadata": {},
   "source": [
    "# Gather Energy Usage Data"
   ]
  },
  {
   "cell_type": "code",
   "execution_count": 7,
   "id": "f8de833f",
   "metadata": {},
   "outputs": [],
   "source": [
    "import pandas as pd"
   ]
  },
  {
   "cell_type": "code",
   "execution_count": 8,
   "id": "b61e4f34",
   "metadata": {},
   "outputs": [],
   "source": [
    "# load the dataset\n",
    "data = pd.read_json(\"data/sample.json\")"
   ]
  },
  {
   "cell_type": "code",
   "execution_count": 9,
   "id": "5cf4b9a7",
   "metadata": {},
   "outputs": [
    {
     "data": {
      "text/html": [
       "<div>\n",
       "<style scoped>\n",
       "    .dataframe tbody tr th:only-of-type {\n",
       "        vertical-align: middle;\n",
       "    }\n",
       "\n",
       "    .dataframe tbody tr th {\n",
       "        vertical-align: top;\n",
       "    }\n",
       "\n",
       "    .dataframe thead th {\n",
       "        text-align: right;\n",
       "    }\n",
       "</style>\n",
       "<table border=\"1\" class=\"dataframe\">\n",
       "  <thead>\n",
       "    <tr style=\"text-align: right;\">\n",
       "      <th></th>\n",
       "      <th>prompt_text</th>\n",
       "    </tr>\n",
       "  </thead>\n",
       "  <tbody>\n",
       "    <tr>\n",
       "      <th>0</th>\n",
       "      <td>how can identity protection services help prot...</td>\n",
       "    </tr>\n",
       "    <tr>\n",
       "      <th>1</th>\n",
       "      <td>Beside OFAC's selective sanction that target t...</td>\n",
       "    </tr>\n",
       "    <tr>\n",
       "      <th>2</th>\n",
       "      <td>You are the text completion model and you must...</td>\n",
       "    </tr>\n",
       "    <tr>\n",
       "      <th>3</th>\n",
       "      <td>The sum of the perimeters of three equal squar...</td>\n",
       "    </tr>\n",
       "    <tr>\n",
       "      <th>4</th>\n",
       "      <td>What is the type of the variables in the follo...</td>\n",
       "    </tr>\n",
       "  </tbody>\n",
       "</table>\n",
       "</div>"
      ],
      "text/plain": [
       "                                         prompt_text\n",
       "0  how can identity protection services help prot...\n",
       "1  Beside OFAC's selective sanction that target t...\n",
       "2  You are the text completion model and you must...\n",
       "3  The sum of the perimeters of three equal squar...\n",
       "4  What is the type of the variables in the follo..."
      ]
     },
     "execution_count": 9,
     "metadata": {},
     "output_type": "execute_result"
    }
   ],
   "source": [
    "# show sample of the data\n",
    "data.head()"
   ]
  },
  {
   "cell_type": "markdown",
   "id": "b5dfc877",
   "metadata": {},
   "source": [
    "## Energy Measurement Verification\n",
    "1. Run sample prompts through **CodeCarbon + LLM API**.  \n",
    "2. Confirm energy data logs correctly and no major errors occur.  \n",
    "\n",
    "---\n",
    "\n",
    "## LLM Models Tested\n",
    "- **GPT-4o / GPT-4o-mini** (OpenAI)  \n",
    "- **Claude 3 Sonnet** (Anthropic)  \n",
    "- **Mistral Large / Mixtral 8×22B** (Together.ai / Replicate)  \n",
    "- **Gemini 1.5 Pro** (Google)\n"
   ]
  },
  {
   "cell_type": "code",
   "execution_count": 10,
   "id": "a864d69c",
   "metadata": {},
   "outputs": [],
   "source": [
    "# Get energy data from LLM API calls\n",
    "# TODO: Import codecarbon\n",
    "# TODO: Import LLM libraries\n",
    "# TODO: Set API keys"
   ]
  },
  {
   "cell_type": "code",
   "execution_count": 11,
   "id": "1b13ed59",
   "metadata": {},
   "outputs": [],
   "source": [
    "# Set up LLM clients\n",
    "# TODO: OpenAI client\n",
    "# TODO: Anthropic client\n",
    "# TODO: Google client\n",
    "# TODO: Together.ai client\n"
   ]
  },
  {
   "cell_type": "code",
   "execution_count": 12,
   "id": "4d0fe434",
   "metadata": {},
   "outputs": [],
   "source": [
    "# Track energy during API calls\n",
    "# TODO: Energy tracking function\n",
    "# TODO: Log energy data\n"
   ]
  },
  {
   "cell_type": "code",
   "execution_count": 13,
   "id": "3850bd61",
   "metadata": {},
   "outputs": [],
   "source": [
    "# Make API calls to each model\n",
    "# TODO: OpenAI function\n",
    "# TODO: Anthropic function\n",
    "# TODO: Google function\n",
    "# TODO: Together.ai function\n"
   ]
  },
  {
   "cell_type": "code",
   "execution_count": 14,
   "id": "8fc272f3",
   "metadata": {},
   "outputs": [],
   "source": [
    "# Test energy with sample prompts\n",
    "# TODO: Run tests\n",
    "# TODO: Save energy data\n"
   ]
  }
 ],
 "metadata": {
  "kernelspec": {
   "display_name": "Python 3",
   "language": "python",
   "name": "python3"
  },
  "language_info": {
   "codemirror_mode": {
    "name": "ipython",
    "version": 3
   },
   "file_extension": ".py",
   "mimetype": "text/x-python",
   "name": "python",
   "nbconvert_exporter": "python",
   "pygments_lexer": "ipython3",
   "version": "3.13.2"
  }
 },
 "nbformat": 4,
 "nbformat_minor": 5
}
