{
 "cells": [
  {
   "cell_type": "markdown",
   "metadata": {},
   "source": [
    "# Explore the \"conversations\" dataset"
   ]
  },
  {
   "cell_type": "code",
   "execution_count": 2,
   "metadata": {},
   "outputs": [],
   "source": [
    "import pandas as pd"
   ]
  },
  {
   "cell_type": "code",
   "execution_count": 3,
   "metadata": {},
   "outputs": [],
   "source": [
    "# load the dataset. This may take several minutes\n",
    "data = pd.read_json(\"data/conversations.json\")"
   ]
  },
  {
   "cell_type": "code",
   "execution_count": 4,
   "metadata": {},
   "outputs": [
    {
     "data": {
      "text/html": [
       "<div>\n",
       "<style scoped>\n",
       "    .dataframe tbody tr th:only-of-type {\n",
       "        vertical-align: middle;\n",
       "    }\n",
       "\n",
       "    .dataframe tbody tr th {\n",
       "        vertical-align: top;\n",
       "    }\n",
       "\n",
       "    .dataframe thead th {\n",
       "        text-align: right;\n",
       "    }\n",
       "</style>\n",
       "<table border=\"1\" class=\"dataframe\">\n",
       "  <thead>\n",
       "    <tr style=\"text-align: right;\">\n",
       "      <th></th>\n",
       "      <th>conversation_id</th>\n",
       "      <th>model</th>\n",
       "      <th>conversation</th>\n",
       "      <th>turn</th>\n",
       "      <th>language</th>\n",
       "      <th>openai_moderation</th>\n",
       "      <th>redacted</th>\n",
       "    </tr>\n",
       "  </thead>\n",
       "  <tbody>\n",
       "    <tr>\n",
       "      <th>0</th>\n",
       "      <td>33f01939a744455c869cb234afca47f1</td>\n",
       "      <td>wizardlm-13b</td>\n",
       "      <td>[{'content': 'how can identity protection serv...</td>\n",
       "      <td>1</td>\n",
       "      <td>English</td>\n",
       "      <td>[{'categories': {'harassment': False, 'harassm...</td>\n",
       "      <td>False</td>\n",
       "    </tr>\n",
       "    <tr>\n",
       "      <th>1</th>\n",
       "      <td>1e230e55efea4edab95db9cb87f6a9cb</td>\n",
       "      <td>vicuna-13b</td>\n",
       "      <td>[{'content': 'Beside OFAC's selective sanction...</td>\n",
       "      <td>6</td>\n",
       "      <td>English</td>\n",
       "      <td>[{'categories': {'harassment': False, 'harassm...</td>\n",
       "      <td>False</td>\n",
       "    </tr>\n",
       "    <tr>\n",
       "      <th>2</th>\n",
       "      <td>0f623736051f4a48a506fd5933563cfd</td>\n",
       "      <td>vicuna-13b</td>\n",
       "      <td>[{'content': 'You are the text completion mode...</td>\n",
       "      <td>1</td>\n",
       "      <td>English</td>\n",
       "      <td>[{'categories': {'harassment': False, 'harassm...</td>\n",
       "      <td>False</td>\n",
       "    </tr>\n",
       "    <tr>\n",
       "      <th>3</th>\n",
       "      <td>e5c923a7fa3f4893beb432b4a06ef222</td>\n",
       "      <td>palm-2</td>\n",
       "      <td>[{'content': 'The sum of the perimeters of thr...</td>\n",
       "      <td>2</td>\n",
       "      <td>English</td>\n",
       "      <td>[{'categories': {'harassment': False, 'harassm...</td>\n",
       "      <td>False</td>\n",
       "    </tr>\n",
       "    <tr>\n",
       "      <th>4</th>\n",
       "      <td>8ad66650dced4b728de1d14bb04657c1</td>\n",
       "      <td>vicuna-13b</td>\n",
       "      <td>[{'content': 'What is the type of the variable...</td>\n",
       "      <td>1</td>\n",
       "      <td>English</td>\n",
       "      <td>[{'categories': {'harassment': False, 'harassm...</td>\n",
       "      <td>False</td>\n",
       "    </tr>\n",
       "  </tbody>\n",
       "</table>\n",
       "</div>"
      ],
      "text/plain": [
       "                    conversation_id         model  \\\n",
       "0  33f01939a744455c869cb234afca47f1  wizardlm-13b   \n",
       "1  1e230e55efea4edab95db9cb87f6a9cb    vicuna-13b   \n",
       "2  0f623736051f4a48a506fd5933563cfd    vicuna-13b   \n",
       "3  e5c923a7fa3f4893beb432b4a06ef222        palm-2   \n",
       "4  8ad66650dced4b728de1d14bb04657c1    vicuna-13b   \n",
       "\n",
       "                                        conversation  turn language  \\\n",
       "0  [{'content': 'how can identity protection serv...     1  English   \n",
       "1  [{'content': 'Beside OFAC's selective sanction...     6  English   \n",
       "2  [{'content': 'You are the text completion mode...     1  English   \n",
       "3  [{'content': 'The sum of the perimeters of thr...     2  English   \n",
       "4  [{'content': 'What is the type of the variable...     1  English   \n",
       "\n",
       "                                   openai_moderation  redacted  \n",
       "0  [{'categories': {'harassment': False, 'harassm...     False  \n",
       "1  [{'categories': {'harassment': False, 'harassm...     False  \n",
       "2  [{'categories': {'harassment': False, 'harassm...     False  \n",
       "3  [{'categories': {'harassment': False, 'harassm...     False  \n",
       "4  [{'categories': {'harassment': False, 'harassm...     False  "
      ]
     },
     "execution_count": 4,
     "metadata": {},
     "output_type": "execute_result"
    }
   ],
   "source": [
    "# show sample of the data\n",
    "data.head()"
   ]
  },
  {
   "cell_type": "code",
   "execution_count": 5,
   "id": "ac9d67d0",
   "metadata": {},
   "outputs": [
    {
     "name": "stdout",
     "output_type": "stream",
     "text": [
      "\n",
      "Prompt 1:\n",
      "how can identity protection services help protect me against identity theft\n",
      "--------------------------------------------------------------------------------\n",
      "\n",
      "Response 1:\n",
      "Identity protection services can help protect you against identity theft in several ways:\n",
      "\n",
      "1. Monitoring: Many identity protection services monitor your credit reports, public records, and other sources for signs of identity theft. If they detect any suspicious activity, they will alert you so you can take action.\n",
      "2. Credit freeze: Some identity protection services can help you freeze your credit, which makes it more difficult for thieves to open new accounts in your name.\n",
      "3. Identity theft insurance: Some identity protection services offer insurance that can help you recover financially if you become a victim of identity theft.\n",
      "4. Assistance: Many identity protection services offer assistance if you become a victim of identity theft. They can help you file a police report, contact credit bureaus, and other steps to help you restore your identity.\n",
      "\n",
      "Overall, identity protection services can provide you with peace of mind and help you take proactive steps to protect your identity. However, it's important to note that no service can completely guarantee that you will never become a victim of identity theft. It's still important to take steps to protect your own identity, such as being cautious with personal information and regularly monitoring your credit reports.\n",
      "--------------------------------------------------------------------------------\n"
     ]
    }
   ],
   "source": [
    "# print the first conversation clearly labeling prompts and responses\n",
    "first_conv = data[\"conversation\"].iloc[0]\n",
    "\n",
    "for i, message in enumerate(first_conv):\n",
    "    role = \"Prompt\" if i % 2 == 0 else \"Response\"\n",
    "    print(f\"\\n{role} {i//2 + 1}:\\n{message.get('content', '')}\\n{'-'*80}\")\n"
   ]
  },
  {
   "cell_type": "markdown",
   "id": "7965ca03",
   "metadata": {},
   "source": [
    "functions to make:\n",
    "- data cleaning functions; make new 'prompts.json' file with metadata. One file in main directory, and eventually delete download.py for ease of use by others. \n",
    "- For llm in llms: make{llm}data()\n"
   ]
  }
 ],
 "metadata": {
  "kernelspec": {
   "display_name": "Python 3",
   "language": "python",
   "name": "python3"
  },
  "language_info": {
   "codemirror_mode": {
    "name": "ipython",
    "version": 3
   },
   "file_extension": ".py",
   "mimetype": "text/x-python",
   "name": "python",
   "nbconvert_exporter": "python",
   "pygments_lexer": "ipython3",
   "version": "3.13.2"
  }
 },
 "nbformat": 4,
 "nbformat_minor": 5
}
