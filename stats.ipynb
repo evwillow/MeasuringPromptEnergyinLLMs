{
  "cells": [
    {
      "cell_type": "markdown",
      "metadata": {},
      "source": [
        "# LLM Energy & Performance Analysis Dashboard\n",
        "\n",
        "**Comprehensive analysis of LLM performance metrics from energy.json data**\n",
        "\n",
        "## What this analyzes:\n",
        "- Model performance comparison (speed, tokens, efficiency)\n",
        "- Energy consumption patterns and trends\n",
        "- Token usage distribution across models\n",
        "- Response time analysis\n",
        "- Cost and efficiency metrics\n",
        "\n",
        "## Setup:\n",
        "1. Run `pip install -r requirements.txt` to install dependencies\n",
        "2. Ensure `data/energy.json` exists with your experimental data\n",
        "3. Run all cells to generate comprehensive analysis\n"
      ]
    },
    {
      "cell_type": "code",
      "execution_count": 37,
      "metadata": {},
      "outputs": [
        {
          "name": "stdout",
          "output_type": "stream",
          "text": [
            "LLM Energy & Performance Analysis Dashboard\n"
          ]
        }
      ],
      "source": [
        "# Import dependencies for comprehensive analysis\n",
        "import pandas as pd\n",
        "import numpy as np\n",
        "import json\n",
        "import matplotlib.pyplot as plt\n",
        "import seaborn as sns\n",
        "import plotly.express as px\n",
        "import plotly.graph_objects as go\n",
        "from plotly.subplots import make_subplots\n",
        "import warnings\n",
        "warnings.filterwarnings('ignore')\n",
        "\n",
        "# Set style for better visualizations\n",
        "plt.style.use('seaborn-v0_8')\n",
        "sns.set_palette(\"husl\")\n",
        "\n",
        "print(\"LLM Energy & Performance Analysis Dashboard\")\n"
      ]
    },
    {
      "cell_type": "code",
      "execution_count": 38,
      "metadata": {},
      "outputs": [
        {
          "name": "stdout",
          "output_type": "stream",
          "text": [
            "Loaded 100 prompts from energy.json\n",
            "Data loaded successfully: 100 prompts analyzed\n"
          ]
        }
      ],
      "source": [
        "# Load and parse energy data\n",
        "def load_energy_data():\n",
        "    try:\n",
        "        with open('data/energy.json', 'r') as f:\n",
        "            data = json.load(f)\n",
        "        print(f\"Loaded {len(data)} prompts from energy.json\")\n",
        "        return data\n",
        "    except FileNotFoundError:\n",
        "        print(\"Error: data/energy.json not found. Run gather_energy_data.ipynb first.\")\n",
        "        return []\n",
        "    except Exception as e:\n",
        "        print(f\"Error loading data: {e}\")\n",
        "        return []\n",
        "\n",
        "energy_data = load_energy_data()\n",
        "\n",
        "if not energy_data:\n",
        "    print(\"No data available for analysis.\")\n",
        "else:\n",
        "    print(f\"Data loaded successfully: {len(energy_data)} prompts analyzed\")\n"
      ]
    },
    {
      "cell_type": "code",
      "execution_count": 39,
      "metadata": {},
      "outputs": [
        {
          "name": "stdout",
          "output_type": "stream",
          "text": [
            "Flattened data: 299 model results\n",
            "Models: ['openai' 'llama' 'mistral']\n",
            "Columns: ['prompt_id', 'prompt_text', 'model', 'duration_seconds', 'prompt_tokens', 'completion_tokens', 'total_tokens', 'tokens_per_second', 'estimated_energy_kwh', 'energy_per_token', 'response_length', 'finish_reason']\n"
          ]
        }
      ],
      "source": [
        "# Flatten data for analysis - extract all model results\n",
        "def flatten_energy_data(data):\n",
        "    flattened = []\n",
        "    \n",
        "    for prompt in data:\n",
        "        prompt_id = prompt.get('prompt_id', 'unknown')\n",
        "        prompt_text = prompt.get('prompt_text', '')\n",
        "        \n",
        "        for model_name, model_result in prompt.get('models', {}).items():\n",
        "            if model_result.get('model_info', {}).get('success', False):\n",
        "                # Extract key metrics\n",
        "                usage = model_result.get('usage_metrics', {})\n",
        "                performance = model_result.get('performance', {})\n",
        "                response = model_result.get('response_data', {})\n",
        "                \n",
        "                flattened.append({\n",
        "                    'prompt_id': prompt_id,\n",
        "                    'prompt_text': prompt_text[:100] + '...' if len(prompt_text) > 100 else prompt_text,\n",
        "                    'model': model_name,\n",
        "                    'duration_seconds': performance.get('duration_seconds', 0),\n",
        "                    'prompt_tokens': usage.get('prompt_tokens', 0),\n",
        "                    'completion_tokens': usage.get('completion_tokens', 0),\n",
        "                    'total_tokens': usage.get('total_tokens', 0),\n",
        "                    'tokens_per_second': usage.get('tokens_per_second', 0),\n",
        "                    'estimated_energy_kwh': usage.get('estimated_energy_kwh', 0),\n",
        "                    'energy_per_token': usage.get('energy_per_token', 0),\n",
        "                    'response_length': len(response.get('content', '')),\n",
        "                    'finish_reason': response.get('finish_reason', 'unknown')\n",
        "                })\n",
        "    \n",
        "    return pd.DataFrame(flattened)\n",
        "\n",
        "if energy_data:\n",
        "    df = flatten_energy_data(energy_data)\n",
        "    print(f\"Flattened data: {len(df)} model results\")\n",
        "    print(f\"Models: {df['model'].unique()}\")\n",
        "    print(f\"Columns: {list(df.columns)}\")\n",
        "else:\n",
        "    df = pd.DataFrame()\n",
        "    print(\"No data to flatten.\")\n"
      ]
    },
    {
      "cell_type": "code",
      "execution_count": 40,
      "metadata": {},
      "outputs": [
        {
          "name": "stdout",
          "output_type": "stream",
          "text": [
            "Data: 299 experiments, 100 prompts, 47,877 tokens, 3.579370 kWh\n",
            "\n",
            "Model Performance:\n",
            "        duration_seconds        total_tokens        tokens_per_second  \\\n",
            "                   count   mean         mean    sum              mean   \n",
            "model                                                                   \n",
            "llama                100  0.441      181.890  18189           424.340   \n",
            "mistral               99  5.187      150.949  14944            50.644   \n",
            "openai               100  1.006      147.440  14744           188.997   \n",
            "\n",
            "        estimated_energy_kwh         \n",
            "                         sum   mean  \n",
            "model                                \n",
            "llama                  0.909  0.009  \n",
            "mistral                1.196  0.012  \n",
            "openai                 1.474  0.015  \n"
          ]
        }
      ],
      "source": [
        "# Overview statistics\n",
        "if not df.empty:\n",
        "    print(f\"Data: {len(df)} experiments, {df['prompt_id'].nunique()} prompts, {df['total_tokens'].sum():,} tokens, {df['estimated_energy_kwh'].sum():.6f} kWh\")\n",
        "    \n",
        "    # Model-specific stats\n",
        "    model_stats = df.groupby('model').agg({\n",
        "        'duration_seconds': ['count', 'mean'],\n",
        "        'total_tokens': ['mean', 'sum'],\n",
        "        'tokens_per_second': 'mean',\n",
        "        'estimated_energy_kwh': ['sum', 'mean']\n",
        "    }).round(3)\n",
        "    \n",
        "    print(\"\\nModel Performance:\")\n",
        "    print(model_stats)\n",
        "else:\n",
        "    print(\"No data available.\")\n"
      ]
    },
    {
      "cell_type": "code",
      "execution_count": 41,
      "metadata": {},
      "outputs": [
        {
          "data": {
            "image/png": "[encoded data removed]",
            "text/plain": [
              "<Figure size 1000x600 with 1 Axes>"
            ]
          },
          "metadata": {},
          "output_type": "display_data"
        }
      ],
      "source": [
        "# Model Performance Comparison - Response Time\n",
        "if not df.empty:\n",
        "    plt.figure(figsize=(10, 6))\n",
        "    sns.boxplot(data=df, x='model', y='duration_seconds')\n",
        "    plt.title('Response Time Distribution')\n",
        "    plt.ylabel('Duration (seconds)')\n",
        "    plt.xticks(rotation=45)\n",
        "    plt.tight_layout()\n",
        "    plt.show()\n",
        "else:\n",
        "    print(\"No data available.\")\n"
      ]
    },
    {
      "cell_type": "code",
      "execution_count": 42,
      "metadata": {},
      "outputs": [
        {
          "data": {
            "image/png": "[encoded data removed]",
            "text/plain": [
              "<Figure size 1000x600 with 1 Axes>"
            ]
          },
          "metadata": {},
          "output_type": "display_data"
        }
      ],
      "source": [
        "# Processing Speed Comparison\n",
        "if not df.empty:\n",
        "    plt.figure(figsize=(10, 6))\n",
        "    sns.barplot(data=df, x='model', y='tokens_per_second')\n",
        "    plt.title('Processing Speed (Tokens/Second)')\n",
        "    plt.ylabel('Tokens/Second')\n",
        "    plt.xticks(rotation=45)\n",
        "    plt.tight_layout()\n",
        "    plt.show()\n",
        "else:\n",
        "    print(\"No data available.\")\n"
      ]
    },
    {
      "cell_type": "code",
      "execution_count": 43,
      "metadata": {},
      "outputs": [
        {
          "data": {
            "image/png": "[encoded data removed]",
            "text/plain": [
              "<Figure size 1000x600 with 1 Axes>"
            ]
          },
          "metadata": {},
          "output_type": "display_data"
        }
      ],
      "source": [
        "# Token Usage Distribution\n",
        "if not df.empty:\n",
        "    plt.figure(figsize=(10, 6))\n",
        "    sns.violinplot(data=df, x='model', y='total_tokens')\n",
        "    plt.title('Token Usage Distribution')\n",
        "    plt.ylabel('Total Tokens')\n",
        "    plt.xticks(rotation=45)\n",
        "    plt.tight_layout()\n",
        "    plt.show()\n",
        "else:\n",
        "    print(\"No data available.\")\n"
      ]
    },
    {
      "cell_type": "code",
      "execution_count": 44,
      "metadata": {},
      "outputs": [
        {
          "data": {
            "image/png": "[encoded data removed]",
            "text/plain": [
              "<Figure size 1000x600 with 1 Axes>"
            ]
          },
          "metadata": {},
          "output_type": "display_data"
        }
      ],
      "source": [
        "# Energy Consumption per Response\n",
        "if not df.empty:\n",
        "    plt.figure(figsize=(10, 6))\n",
        "    sns.barplot(data=df, x='model', y='estimated_energy_kwh')\n",
        "    plt.title('Energy Consumption per Response')\n",
        "    plt.ylabel('Energy (kWh)')\n",
        "    plt.xticks(rotation=45)\n",
        "    plt.tight_layout()\n",
        "    plt.show()\n",
        "else:\n",
        "    print(\"No data available.\")\n"
      ]
    },
    {
      "cell_type": "code",
      "execution_count": 45,
      "metadata": {},
      "outputs": [
        {
          "data": {
            "image/png": "[encoded data removed]",
            "text/plain": [
              "<Figure size 1000x600 with 1 Axes>"
            ]
          },
          "metadata": {},
          "output_type": "display_data"
        }
      ],
      "source": [
        "# Energy vs Tokens Hex Plot\n",
        "if not df.empty:\n",
        "    plt.figure(figsize=(10, 6))\n",
        "    for model in df['model'].unique():\n",
        "        model_data = df[df['model'] == model]\n",
        "        plt.hexbin(model_data['total_tokens'], model_data['estimated_energy_kwh'], \n",
        "                  label=model, alpha=0.7, gridsize=20)\n",
        "    plt.xlabel('Total Tokens')\n",
        "    plt.ylabel('Energy (kWh)')\n",
        "    plt.title('Energy vs Token Usage (Hex Plot)')\n",
        "    plt.legend()\n",
        "    plt.grid(True, alpha=0.3)\n",
        "    plt.tight_layout()\n",
        "    plt.show()\n",
        "else:\n",
        "    print(\"No data available.\")\n"
      ]
    },
    {
      "cell_type": "code",
      "execution_count": 46,
      "metadata": {},
      "outputs": [
        {
          "data": {
            "image/png": "[encoded data removed]",
            "text/plain": [
              "<Figure size 1000x600 with 1 Axes>"
            ]
          },
          "metadata": {},
          "output_type": "display_data"
        }
      ],
      "source": [
        "# Energy Efficiency (Energy per Token)\n",
        "if not df.empty:\n",
        "    plt.figure(figsize=(10, 6))\n",
        "    sns.boxplot(data=df, x='model', y='energy_per_token')\n",
        "    plt.title('Energy Efficiency (kWh per Token)')\n",
        "    plt.ylabel('Energy per Token (kWh)')\n",
        "    plt.xticks(rotation=45)\n",
        "    plt.tight_layout()\n",
        "    plt.show()\n",
        "else:\n",
        "    print(\"No data available.\")\n"
      ]
    },
    {
      "cell_type": "code",
      "execution_count": 47,
      "metadata": {},
      "outputs": [
        {
          "data": {
            "image/png": "[encoded data removed]",
            "text/plain": [
              "<Figure size 1000x600 with 1 Axes>"
            ]
          },
          "metadata": {},
          "output_type": "display_data"
        }
      ],
      "source": [
        "# Energy Distribution\n",
        "if not df.empty:\n",
        "    plt.figure(figsize=(10, 6))\n",
        "    sns.histplot(data=df, x='estimated_energy_kwh', hue='model', kde=True)\n",
        "    plt.title('Energy Consumption Distribution')\n",
        "    plt.xlabel('Energy (kWh)')\n",
        "    plt.ylabel('Frequency')\n",
        "    plt.tight_layout()\n",
        "    plt.show()\n",
        "else:\n",
        "    print(\"No data available.\")\n"
      ]
    },
    {
      "cell_type": "code",
      "execution_count": 48,
      "metadata": {},
      "outputs": [
        {
          "data": {
            "image/png": "[encoded data removed]",
            "text/plain": [
              "<Figure size 1000x600 with 1 Axes>"
            ]
          },
          "metadata": {},
          "output_type": "display_data"
        }
      ],
      "source": [
        "# Cumulative Energy Consumption\n",
        "if not df.empty:\n",
        "    plt.figure(figsize=(10, 6))\n",
        "    for model in df['model'].unique():\n",
        "        model_data = df[df['model'] == model]\n",
        "        model_cumulative = model_data['estimated_energy_kwh'].cumsum()\n",
        "        plt.plot(range(len(model_cumulative)), model_cumulative, label=model, marker='o')\n",
        "    plt.xlabel('Experiment Number')\n",
        "    plt.ylabel('Cumulative Energy (kWh)')\n",
        "    plt.title('Cumulative Energy Consumption')\n",
        "    plt.legend()\n",
        "    plt.grid(True, alpha=0.3)\n",
        "    plt.tight_layout()\n",
        "    plt.show()\n",
        "else:\n",
        "    print(\"No data available.\")\n"
      ]
    },
    {
      "cell_type": "code",
      "execution_count": 49,
      "metadata": {},
      "outputs": [
        {
          "data": {
            "application/vnd.plotly.v1+json": {
              "config": {
                "plotlyServerURL": "https://plot.ly"
              },
              "data": [
                {
                  "customdata": [
                    [
                      "prompt_0",
                      45.85
                    ],
                    [
                      "prompt_1",
                      108.77
                    ],
                    [
                      "prompt_2",
                      138.7
                    ],
                    [
                      "prompt_3",
                      74.84
                    ],
                    [
                      "prompt_4",
                      99.52
                    ],
                    [
                      "prompt_5",
                      94.32
                    ],
                    [
                      "prompt_6",
                      261.24
                    ],
                    [
                      "prompt_7",
                      186.46
                    ],
                    [
                      "prompt_8",
                      55.83
                    ],
                    [
                      "prompt_9",
                      172.53
                    ],
                    [
                      "prompt_10",
                      58.34
                    ],
                    [
                      "prompt_11",
                      65.1
                    ],
                    [
                      "prompt_12",
                      83.31
                    ],
                    [
                      "prompt_13",
                      253.63
                    ],
                    [
                      "prompt_14",
                      54.09
                    ],
                    [
                      "prompt_15",
                      144.24
                    ],
                    [
                      "prompt_16",
                      73.92
                    ],
                    [
                      "prompt_17",
                      62.96
                    ],
                    [
                      "prompt_18",
                      105.44
                    ],
                    [
                      "prompt_19",
                      63.56
                    ],
                    [
                      "prompt_20",
                      146.74
                    ],
                    [
                      "prompt_21",
                      66.89
                    ],
                    [
                      "prompt_22",
                      374.85
                    ],
                    [
                      "prompt_23",
                      294.41
                    ],
                    [
                      "prompt_24",
                      290.94
                    ],
                    [
                      "prompt_25",
                      81.73
                    ],
                    [
                      "prompt_26",
                      70
                    ],
                    [
                      "prompt_27",
                      601.79
                    ],
                    [
                      "prompt_28",
                      74.11
                    ],
                    [
                      "prompt_29",
                      101.2
                    ],
                    [
                      "prompt_30",
                      68.08
                    ],
                    [
                      "prompt_31",
                      189.44
                    ],
                    [
                      "prompt_32",
                      104.59
                    ],
                    [
                      "prompt_33",
                      190.19
                    ],
                    [
                      "prompt_34",
                      385.23
                    ],
                    [
                      "prompt_35",
                      193.97
                    ],
                    [
                      "prompt_36",
                      46.37
                    ],
                    [
                      "prompt_37",
                      63.08
                    ],
                    [
                      "prompt_38",
                      60.29
                    ],
                    [
                      "prompt_39",
                      991.94
                    ],
                    [
                      "prompt_40",
                      57.4
                    ],
                    [
                      "prompt_41",
                      717.48
                    ],
                    [
                      "prompt_42",
                      82.32
                    ],
                    [
                      "prompt_43",
                      241.6
                    ],
                    [
                      "prompt_44",
                      110.02
                    ],
                    [
                      "prompt_45",
                      43.96
                    ],
                    [
                      "prompt_46",
                      694.87
                    ],
                    [
                      "prompt_47",
                      427.19
                    ],
                    [
                      "prompt_48",
                      72.9
                    ],
                    [
                      "prompt_49",
                      43.03
                    ],
                    [
                      "prompt_50",
                      58.67
                    ],
                    [
                      "prompt_51",
                      277.31
                    ],
                    [
                      "prompt_52",
                      74.46
                    ],
                    [
                      "prompt_53",
                      52.47
                    ],
                    [
                      "prompt_54",
                      68.01
                    ],
                    [
                      "prompt_55",
                      73.69
                    ],
                    [
                      "prompt_56",
                      65.23
                    ],
                    [
                      "prompt_57",
                      103.43
                    ],
                    [
                      "prompt_58",
                      91.57
                    ],
                    [
                      "prompt_59",
                      60.23
                    ],
                    [
                      "prompt_60",
                      75.94
                    ],
                    [
                      "prompt_61",
                      73.63
                    ],
                    [
                      "prompt_62",
                      130.51
                    ],
                    [
                      "prompt_63",
                      1943.82
                    ],
                    [
                      "prompt_64",
                      68.99
                    ],
                    [
                      "prompt_65",
                      56.92
                    ],
                    [
                      "prompt_66",
                      438.23
                    ],
                    [
                      "prompt_67",
                      652.75
                    ],
                    [
                      "prompt_68",
                      79.15
                    ],
                    [
                      "prompt_69",
                      81.31
                    ],
                    [
                      "prompt_70",
                      79.68
                    ],
                    [
                      "prompt_71",
                      41.4
                    ],
                    [
                      "prompt_72",
                      55.65
                    ],
                    [
                      "prompt_73",
                      79.74
                    ],
                    [
                      "prompt_74",
                      67.88
                    ],
                    [
                      "prompt_75",
                      83.1
                    ],
                    [
                      "prompt_76",
                      89.93
                    ],
                    [
                      "prompt_77",
                      98.7
                    ],
                    [
                      "prompt_78",
                      729.97
                    ],
                    [
                      "prompt_79",
                      1320.62
                    ],
                    [
                      "prompt_80",
                      130.51
                    ],
                    [
                      "prompt_81",
                      60.9
                    ],
                    [
                      "prompt_82",
                      59.08
                    ],
                    [
                      "prompt_83",
                      46.26
                    ],
                    [
                      "prompt_84",
                      40.24
                    ],
                    [
                      "prompt_85",
                      414.55
                    ],
                    [
                      "prompt_86",
                      83.6
                    ],
                    [
                      "prompt_87",
                      73.74
                    ],
                    [
                      "prompt_88",
                      64.4
                    ],
                    [
                      "prompt_89",
                      683.35
                    ],
                    [
                      "prompt_90",
                      90.01
                    ],
                    [
                      "prompt_91",
                      79
                    ],
                    [
                      "prompt_92",
                      60.13
                    ],
                    [
                      "prompt_93",
                      215.57
                    ],
                    [
                      "prompt_94",
                      52.17
                    ],
                    [
                      "prompt_95",
                      90.09
                    ],
                    [
                      "prompt_96",
                      190.43
                    ],
                    [
                      "prompt_97",
                      59.83
                    ],
                    [
                      "prompt_98",
                      77.76
                    ],
                    [
                      "prompt_99",
                      65.87
                    ]
                  ],
                  "hovertemplate": "model=openai<br>total_tokens=%{x}<br>duration_seconds=%{y}<br>estimated_energy_kwh=%{z}<br>tokens_per_second=%{customdata[1]}<br>prompt_id=%{customdata[0]}<extra></extra>",
                  "legendgroup": "openai",
                  "marker": {
                    "color": "#636efa",
                    "size": {
                      "bdata": "zczMzMzsRkDhehSuRzFbQGZmZmZmVmFA9ihcj8K1UkDhehSuR+FYQBSuR+F6lFdApHA9CtdTcEAfhetRuE5nQArXo3A96ktAKVyPwvWQZUDsUbgehStNQGZmZmZmRlBApHA9CtfTVEBcj8L1KLRvQOxRuB6FC0tASOF6FK4HYkB7FK5H4XpSQHsUrkfhek9AXI/C9ShcWkBI4XoUrsdPQEjhehSuV2JAKVyPwvW4UECamZmZmW13QMP1KFyPZnJA16NwPQovckAfhetRuG5UQAAAAAAAgFFAuB6F61HOgkDXo3A9CodSQM3MzMzMTFlAhetRuB4FUUCuR+F6FK5nQPYoXI/CJVpArkfhehTGZ0BI4XoUrhN4QNejcD0KP2hAj8L1KFwvR0AK16NwPYpPQIXrUbgeJU5A7FG4HoX/jkAzMzMzM7NMQKRwPQrXa4ZAFK5H4XqUVEAzMzMzMzNuQOF6FK5HgVtAexSuR+H6RUApXI/C9baFQNejcD0Ks3pAmpmZmZk5UkCkcD0K14NFQPYoXI/CVU1AKVyPwvVUcUA9CtejcJ1SQFyPwvUoPEpAcT0K16MAUUBcj8L1KGxSQB+F61G4TlBA7FG4HoXbWUAUrkfheuRWQD0K16NwHU5AXI/C9Sj8UkC4HoXrUWhSQLgehetRUGBA4XoUrkdfnkCPwvUoXD9RQPYoXI/CdUxASOF6FK5je0AAAAAAAGaEQJqZmZmZyVNApHA9CtdTVEDsUbgehetTQDMzMzMzs0RAMzMzMzPTS0CPwvUoXO9TQLgehetR+FBAZmZmZmbGVEDsUbgehXtWQM3MzMzMrFhA9ihcj8LPhkAUrkfheqKUQLgehetRUGBAMzMzMzNzTkAK16NwPYpNQOF6FK5HIUdAH4XrUbgeREDNzMzMzOh5QGZmZmZm5lRAj8L1KFxvUkCamZmZmRlQQM3MzMzMWoVAcT0K16OAVkAAAAAAAMBTQHE9CtejEE5ACtejcD3yakD2KFyPwhVKQPYoXI/ChVZA9ihcj8LNZ0AK16NwPepNQHE9CtejcFNASOF6FK53UEA=",
                      "dtype": "f8"
                    },
                    "sizemode": "area",
                    "sizeref": 4.85955,
                    "symbol": "circle"
                  },
                  "mode": "markers",
                  "name": "openai",
                  "scene": "scene",
                  "showlegend": true,
                  "type": "scatter3d",
                  "x": {
                    "bdata": "RABmAIUAWgBaAHIAGwF3ACgAvABeADAAUgCJAU0AigBKAEUAYwBDAIQAQwBxAIwBZAFQABgALgJEAF0ASQC7AG0A1ACnAN0AOQBMAEIA7gEZALUATgAoAWwAPwC5AiECQABSAEYAGgFEAEMARABMAEMAUgBeAEoAJQBBAIQAzwEoAEsA1gEIAiMAAwFuAD8ARQAtAEQAXABQAGYA/QKmAYQAPABKAEMAQwBgAFsATABKAN4ARAA/AEEAiwBEAEoA3QBDACUAQwA=",
                    "dtype": "i2"
                  },
                  "y": {
                    "bdata": "7nw/NV669z9qvHSTGATuP+Olm8QgsO4/c2iR7Xw/8z8hsHJoke3sP/LSTWIQWPM/hxbZzvdT8T/RItv5fmrkP7bz/dR46eY/cT0K16Nw8T8tsp3vp8b5Py/dJAaBlec/sHJoke187z/NzMzMzMz4P2IQWDm0yPY/ObTIdr6f7j9qvHSTGATwP/Cnxks3ifE/PzVeukkM7j93vp8aL93wP83MzMzMzOw/1XjpJjEI8D/dJAaBlUPTP4XrUbgehfU/L90kBoGV8z+HFtnO91PvP8HKoUW289U/RIts5/up7T/y0k1iEFjtP5zEILByaO0/9P3UeOkm8T8v3SQGgZXvP3npJjEIrPA/16NwPQrX8T8tsp3vp8bbP9NNYhBYOfI/RIts5/up8z9I4XoUrkfzP4XrUbgehfE/rBxaZDvf3z+BlUOLbOfbP1TjpZvEINA/vHSTGARW7j+amZmZmZnzPwaBlUOLbO8/IbByaJHt9j8/NV66SQzwP9Ei2/l+avQ/f2q8dJMY7D/l0CLb+X7+P0oMAiuHFvM/EoPAyqFF8D+e76fGSzftPzvfT42XbvQ/AAAAAAAA8D/l0CLb+X7wPzvfT42XbvA/x0s3iUFg6T/RItv5fmrwP0SLbOf7qfM/XrpJDAIr3z+oxks3iUHsP5MYBFYOLfA/EFg5tMh2zj+PwvUoXI/iP0oMAiuHFvU/XrpJDAIr8T8bL90kBoHpP30/NV66Sdw/exSuR+F6CUB/arx0kxj2PycxCKwcWvg/16NwPQrX8z8/NV66SQziP9V46SYxCPA/g8DKoUW28T97FK5H4XrsP7pJDAIrh/A/+FPjpZvE8D97FK5H4XrUP5MYBFYOLfA/hetRuB6F7z8/NV66SQz0P166SQwCK/c/pHA9Ctej+j8ZBFYOLbLNPwaBlUOLbPE/5dAi2/l+8D/8qfHSTWLyP83MzMzMzNQ/KVyPwvUo6D8bL90kBoHpP7Kd76fGS/E/pHA9Ctej5D8MAiuHFtn0PxKDwMqhReo/+n5qvHST8j/sUbgehevxPxBYObTIdt4/EoPAyqFF8D8=",
                    "dtype": "f8"
                  },
                  "z": {
                    "bdata": "XwfOGVHaez+IhVrTvOOEP8xdS8gHPYs/O99PjZdugj8730+Nl26CP9QrZRniWIc/Qj7o2az6nD90RpT2Bl+IP/yp8dJNYnA/VcGopE5Akz9VwaikTkCDP2EyVTAqqXM/CRueXinLgD+QMXctIR+kP9IA3gIJin8/bHh6pSxDjD+srdhfdk9+P2x4eqUsQ3w/9dvXgXNGhD9TliGOdXF7P0YldQKaCIs/U5YhjnVxez9N845TdCSHP/Xb14FzRqQ/taZ5xyk6oj/8qfHSTWKAP2EyVTAqqWM/Ns07TtGRrD9fB84ZUdp7P86I0t7gC4M/nzws1JrmfT8Spb3BFyaTPzQRNjy9UoY/oWez6nO1lT/Sb18HzhmRP/5l9+RhoZY/1CtlGeJYdz/FjzF3LSF/P0YldQKaCHs/0ETY8PRKqT97FK5H4XpkP3/7OnDOiJI/3nGKjuTyfz+srdhfdk+eP67YX3ZPHoY/INJvXwfOeT+5/If029exP4GVQ4ts56s/LUMc6+I2ej8JG55eKcuAP3npJjEIrHw//yH99nXgnD9fB84ZUdp7P1OWIY51cXs/XwfOGVHaez/FjzF3LSF/P1OWIY51cXs/CRueXinLgD9VwaikTkCDP6yt2F92T34/rK3YX3ZPbj85tMh2vp96P0YldQKaCIs/vw6cM6K0pz/8qfHSTWJwP7gehetRuH4/qvHSTWIQqD85tMh2vp+qP3npJjEIrGw/9pfdk4eFmj+6SQwCK4eGPyDSb18Hznk/bHh6pSxDfD8730+Nl25yP18HzhlR2ns/SFD8GHPXgj/8qfHSTWKAP4iFWtO844Q/L90kBoGVsz9eS8gHPZulP0YldQKaCIs/+n5qvHSTeD+srdhfdk9+P1OWIY51cXs/U5YhjnVxez9hMlUwKqmDP8IXJlMFo4I/xY8xdy0hfz+srdhfdk9+P0GC4seYu5Y/XwfOGVHaez8g0m9fB855Pzm0yHa+n3o/8rBQa5p3jD9fB84ZUdp7P6yt2F92T34//mX35GGhlj9TliGOdXF7P6yt2F92T24/U5YhjnVxez8=",
                    "dtype": "f8"
                  }
                },
                {
                  "customdata": [
                    [
                      "prompt_0",
                      251.68
                    ],
                    [
                      "prompt_1",
                      329.22
                    ],
                    [
                      "prompt_2",
                      440.48
                    ],
                    [
                      "prompt_3",
                      309.13
                    ],
                    [
                      "prompt_4",
                      314.76
                    ],
                    [
                      "prompt_5",
                      302.4
                    ],
                    [
                      "prompt_6",
                      796.6
                    ],
                    [
                      "prompt_7",
                      425.51
                    ],
                    [
                      "prompt_8",
                      229.59
                    ],
                    [
                      "prompt_9",
                      488.67
                    ],
                    [
                      "prompt_10",
                      302.77
                    ],
                    [
                      "prompt_11",
                      239.92
                    ],
                    [
                      "prompt_12",
                      307.59
                    ],
                    [
                      "prompt_13",
                      1050.37
                    ],
                    [
                      "prompt_14",
                      247.17
                    ],
                    [
                      "prompt_15",
                      425.5
                    ],
                    [
                      "prompt_16",
                      232.67
                    ],
                    [
                      "prompt_17",
                      248.69
                    ],
                    [
                      "prompt_18",
                      345.57
                    ],
                    [
                      "prompt_19",
                      253.94
                    ],
                    [
                      "prompt_20",
                      177.86
                    ],
                    [
                      "prompt_21",
                      91.84
                    ],
                    [
                      "prompt_22",
                      145.58
                    ],
                    [
                      "prompt_23",
                      963.3
                    ],
                    [
                      "prompt_24",
                      899.66
                    ],
                    [
                      "prompt_25",
                      220.87
                    ],
                    [
                      "prompt_26",
                      144.85
                    ],
                    [
                      "prompt_27",
                      1349.24
                    ],
                    [
                      "prompt_28",
                      247.62
                    ],
                    [
                      "prompt_29",
                      364.94
                    ],
                    [
                      "prompt_30",
                      271.88
                    ],
                    [
                      "prompt_31",
                      494.57
                    ],
                    [
                      "prompt_32",
                      336.86
                    ],
                    [
                      "prompt_33",
                      621.87
                    ],
                    [
                      "prompt_34",
                      613.54
                    ],
                    [
                      "prompt_35",
                      697.9
                    ],
                    [
                      "prompt_36",
                      214.01
                    ],
                    [
                      "prompt_37",
                      286.6
                    ],
                    [
                      "prompt_38",
                      251.96
                    ],
                    [
                      "prompt_39",
                      1486.55
                    ],
                    [
                      "prompt_40",
                      188.99
                    ],
                    [
                      "prompt_41",
                      651.55
                    ],
                    [
                      "prompt_42",
                      275.62
                    ],
                    [
                      "prompt_43",
                      730.08
                    ],
                    [
                      "prompt_44",
                      317.8
                    ],
                    [
                      "prompt_45",
                      248.82
                    ],
                    [
                      "prompt_46",
                      1795.03
                    ],
                    [
                      "prompt_47",
                      1246.37
                    ],
                    [
                      "prompt_48",
                      237.86
                    ],
                    [
                      "prompt_49",
                      202.15
                    ],
                    [
                      "prompt_50",
                      219.14
                    ],
                    [
                      "prompt_51",
                      681.72
                    ],
                    [
                      "prompt_52",
                      233.87
                    ],
                    [
                      "prompt_53",
                      173.66
                    ],
                    [
                      "prompt_54",
                      131.66
                    ],
                    [
                      "prompt_55",
                      299.07
                    ],
                    [
                      "prompt_56",
                      220.76
                    ],
                    [
                      "prompt_57",
                      253.55
                    ],
                    [
                      "prompt_58",
                      292.86
                    ],
                    [
                      "prompt_59",
                      218.56
                    ],
                    [
                      "prompt_60",
                      145.95
                    ],
                    [
                      "prompt_61",
                      208.67
                    ],
                    [
                      "prompt_62",
                      380.32
                    ],
                    [
                      "prompt_63",
                      1111.66
                    ],
                    [
                      "prompt_64",
                      245.87
                    ],
                    [
                      "prompt_65",
                      211.96
                    ],
                    [
                      "prompt_66",
                      1267.33
                    ],
                    [
                      "prompt_67",
                      1424.43
                    ],
                    [
                      "prompt_68",
                      183.74
                    ],
                    [
                      "prompt_69",
                      619.71
                    ],
                    [
                      "prompt_70",
                      337.66
                    ],
                    [
                      "prompt_71",
                      192.03
                    ],
                    [
                      "prompt_72",
                      193.23
                    ],
                    [
                      "prompt_73",
                      233.76
                    ],
                    [
                      "prompt_74",
                      242.46
                    ],
                    [
                      "prompt_75",
                      241.94
                    ],
                    [
                      "prompt_76",
                      248.21
                    ],
                    [
                      "prompt_77",
                      339.95
                    ],
                    [
                      "prompt_78",
                      1655.02
                    ],
                    [
                      "prompt_79",
                      1168.05
                    ],
                    [
                      "prompt_80",
                      333.53
                    ],
                    [
                      "prompt_81",
                      220.25
                    ],
                    [
                      "prompt_82",
                      214.75
                    ],
                    [
                      "prompt_83",
                      213.73
                    ],
                    [
                      "prompt_84",
                      217.54
                    ],
                    [
                      "prompt_85",
                      367.17
                    ],
                    [
                      "prompt_86",
                      319.32
                    ],
                    [
                      "prompt_87",
                      214.08
                    ],
                    [
                      "prompt_88",
                      200.52
                    ],
                    [
                      "prompt_89",
                      557.09
                    ],
                    [
                      "prompt_90",
                      173.87
                    ],
                    [
                      "prompt_91",
                      212.87
                    ],
                    [
                      "prompt_92",
                      242.58
                    ],
                    [
                      "prompt_93",
                      382.74
                    ],
                    [
                      "prompt_94",
                      237.84
                    ],
                    [
                      "prompt_95",
                      289.78
                    ],
                    [
                      "prompt_96",
                      666.94
                    ],
                    [
                      "prompt_97",
                      222.06
                    ],
                    [
                      "prompt_98",
                      189.6
                    ],
                    [
                      "prompt_99",
                      262.93
                    ]
                  ],
                  "hovertemplate": "model=llama<br>total_tokens=%{x}<br>duration_seconds=%{y}<br>estimated_energy_kwh=%{z}<br>tokens_per_second=%{customdata[1]}<br>prompt_id=%{customdata[0]}<extra></extra>",
                  "legendgroup": "llama",
                  "marker": {
                    "color": "#EF553B",
                    "size": {
                      "bdata": "9ihcj8J1b0DsUbgehZN0QEjhehSuh3tArkfhehRSc0Bcj8L1KKxzQGZmZmZm5nJAzczMzMzkiEBcj8L1KJh6QHsUrkfhsmxAH4XrUbiKfkC4HoXrUexyQD0K16Nw/W1APQrXo3A5c0AUrkfhemmQQD0K16Nw5W5AAAAAAACYekA9CtejcBVtQK5H4XoUFm9AhetRuB6ZdUCuR+F6FL5vQOxRuB6FO2ZA9ihcj8L1VkDD9ShcjzJiQGZmZmZmGo5A4XoUrkcdjECkcD0K15trQDMzMzMzG2JAKVyPwvUUlUCkcD0K1/NuQNejcD0Kz3ZArkfhehT+cECF61G4Hul+QPYoXI/CDXVAKVyPwvVug0C4HoXrUSyDQDMzMzMzz4VAuB6F61HAakCamZmZmelxQB+F61G4fm9AMzMzMzM6l0BI4XoUrp9nQGZmZmZmXIRAUrgehes5cUBxPQrXo9CGQM3MzMzM3HNACtejcD0ab0CF61G4HgycQBSuR+F6eZNA7FG4HoW7bUDNzMzMzERpQBSuR+F6ZGtA9ihcj8JNhUCkcD0K1zttQIXrUbgetWVAhetRuB51YECF61G4HrFyQLgehetRmGtAmpmZmZmxb0D2KFyPwk1yQFK4HoXrUWtAZmZmZmY+YkA9CtejcBVqQIXrUbgexXdAcT0K16NekUCkcD0K17tuQB+F61G4fmpAuB6F61HNk0AfhetRuEGWQEjhehSu92ZASOF6FK5dg0DD9Shcjxp1QClcj8L1AGhAj8L1KFwnaEC4HoXrUThtQB+F61G4Tm5ArkfhehQ+bkAfhetRuAZvQDMzMzMzP3VArkfhehTcmUAzMzMzM0CSQBSuR+F62HRAAAAAAACIa0AAAAAAANhqQI/C9Shct2pA4XoUrkcxa0AfhetRuPJ2QIXrUbge9XNAw/UoXI/CakBxPQrXoxBpQB+F61G4aIFApHA9Cte7ZUCkcD0K15tqQMP1KFyPUm5ApHA9Ctfrd0B7FK5H4bptQBSuR+F6HHJA7FG4HoXXhEBSuB6F68FrQDMzMzMzs2dAexSuR+FucEA=",
                      "dtype": "f8"
                    },
                    "sizemode": "area",
                    "sizeref": 4.85955,
                    "symbol": "circle"
                  },
                  "mode": "markers",
                  "name": "llama",
                  "scene": "scene",
                  "showlegend": true,
                  "type": "scatter3d",
                  "x": {
                    "bdata": "YACCAKEAdgB2AI4AOAGwAF4A2QB8AF8AfACnAWkApwBnAGEAgABwAKwAYACOAKwBhAFsADEAQAJhAHUAZwDXAIoAGwHxABQBXgBoAF4AbgI9AAMBagBEAWkAWwDLAj8CXABuAGMAPgFiAGAAQQB4AF8AbwB8AGYAQQBdAKEA3AFnAGcAOAI7AlAAQQGJAFsAZABnAGEAegBtAIcAGQPOAaAAXwBmAF4AYAB8AHgAaABmAC8BYQBRAF0AwwBhAGYA4QBjAEAAXwA=",
                    "dtype": "i2"
                  },
                  "y": {
                    "bdata": "/Knx0k1i2D9I4XoUrkfZPwaBlUOLbNc/ppvEILBy2D8AAAAAAADYPxSuR+F6FN4/SgwCK4cW2T/l0CLb+X7aP5MYBFYOLdo/0SLb+X5q3D89CtejcD3aP/LSTWIQWNk/mG4Sg8DK2T+YbhKDwMrZPzMzMzMzM9s/SgwCK4cW2T8nMQisHFrcP/YoXI/C9dg/rkfhehSu1z/TTWIQWDncP4ts5/up8e4/uB6F61G48D8zMzMzMzPvP9Ei2/l+atw/L90kBoGV2z+yne+nxkvfP28Sg8DKodU/hxbZzvdT2z9KDAIrhxbZPyUGgZVDi9Q/qMZLN4lB2D/Xo3A9CtfbPz0K16NwPdo/H4XrUbge3T/0/dR46SbZP0jhehSuR9k/f2q8dJMY3D8IrBxaZDvXP6wcWmQ739c/jZduEoPA2j956SYxCKzUP0a28/3UeNk/pHA9Ctej2D/RItv5fmrcPx+F61G4HtU/BoGVQ4ts1z9GtvP91HjZPxsv3SQGgd0/+FPjpZvE2D+cxCCwcmjhPyGwcmiR7dw/bef7qfHS3T83iUFg5dDaPxkEVg4tsuE/BFYOLbKd3z9Ei2zn+6nZP4XrUbgehds/1XjpJjEI3D/fT42XbhLbPxfZzvdT490/exSuR+F63D8lBoGVQ4vcP99PjZduEts/MQisHFpk2z83iUFg5dDaP7TIdr6fGt8/eekmMQis3D9Ei2zn+6nZP9ejcD0K19s/+n5qvHST4D+WQ4ts5/vZP7x0kxgEVt4/+n5qvHST4D/TTWIQWDncP5qZmZmZmdk/VOOlm8Qg4D9/arx0kxjcP5zEILByaNk/Di2yne+n3j/y0k1iEFjZP7gehetRuN4/L90kBoGV2z9mZmZmZmbePylcj8L1KNw/001iEFg53D9vEoPAyqHVP6rx0k1iENg/tMh2vp8a3z99PzVeukngP5zEILByaOE/QmDl0CLb4T/8qfHSTWLYP1CNl24Sg9g/fT81XrpJ4D/pJjEIrBzaP7pJDAIrh9Y/xSCwcmiR1T8lBoGVQ4vcP28Sg8DKodU/tMh2vp8a1z8=",
                    "dtype": "f8"
                  },
                  "z": {
                    "bdata": "YTJVMCqpcz85tMh2vp96Pz/G3LWEfIA/7Q2+MJkqeD/tDb4wmSp4P4Za07zjFH0/3nGKjuTyjz8vbqMBvAWCP1XBqKROQHM/8fRKWYY4hj8TYcPTK2V5P9v5fmq8dHM/E2HD0ytleT9/2T15WKiVPxsv3SQGgXU/0m9fB84ZgT8OvjCZKhh1P+hqK/aX3XM/LUMc6+I2ej/HuriNBvB2PyL99nXgnIE/YTJVMCqpcz+GWtO84xR9PyegibDh6ZU/6Gor9pfdkz+u2F92Tx52P26jAbwFEmQ/kst/SL99nT/oaiv2l91zP2fV52or9nc/Dr4wmSoYdT9qvHSTGASGP2x4eqUsQ3w/Qj7o2az6jD89m1Wfq62IP2x4eqUsQ4w/VcGopE5Acz+U9gZfmEx1P1XBqKROQHM/m1Wfq63Ynz8H8BZIUPxoP/aX3ZOHhYo/oWez6nO1dT+C4seYu5aQPxsv3SQGgXU/whcmUwWjcj/n+6nx0k2iP3E9CtejcJ0/SFD8GHPXcj+6SQwCK4d2P/Xb14FzRnQ/uY0G8BZIkD9uowG8BRJ0P2EyVTAqqXM/ObTIdr6faj/6fmq8dJN4P9v5fmq8dHM/QYLix5i7dj8TYcPTK2V5P4iFWtO843Q/ObTIdr6faj/OiNLe4AtzPz/G3LWEfIA/dEaU9gZfmD8OvjCZKhh1Pw6+MJkqGHU/hlrTvOMUnT/qBDQRNjydP/yp8dJNYnA/HThnRGlvkD/mP6Tfvg58P8IXJlMFo3I/exSuR+F6dD8OvjCZKhh1P+hqK/aX3XM/B/AWSFD8eD80ETY8vVJ2P9nO91PjpXs/BaOSOgFNpD+dgCbChqeXP/yp8dJNYoA/2/l+arx0cz+IhVrTvON0P1XBqKROQHM/YTJVMCqpcz8TYcPTK2V5P/p+arx0k3g/lPYGX5hMdT+IhVrTvON0P4JzRpT2Bo8/6Gor9pfdcz+C4seYu5ZwP86I0t7gC3M/K4cW2c73gz/oaiv2l91zP4iFWtO843Q/CtejcD0Khz/129eBc0Z0Py1DHOviNmo/2/l+arx0cz8=",
                    "dtype": "f8"
                  }
                },
                {
                  "customdata": [
                    [
                      "prompt_0",
                      3.46
                    ],
                    [
                      "prompt_1",
                      55.18
                    ],
                    [
                      "prompt_2",
                      64.86
                    ],
                    [
                      "prompt_3",
                      31.5
                    ],
                    [
                      "prompt_4",
                      7.51
                    ],
                    [
                      "prompt_5",
                      38.33
                    ],
                    [
                      "prompt_6",
                      90.57
                    ],
                    [
                      "prompt_7",
                      53.82
                    ],
                    [
                      "prompt_8",
                      8.27
                    ],
                    [
                      "prompt_9",
                      53.88
                    ],
                    [
                      "prompt_10",
                      6.3
                    ],
                    [
                      "prompt_11",
                      13.91
                    ],
                    [
                      "prompt_12",
                      6.22
                    ],
                    [
                      "prompt_13",
                      193.71
                    ],
                    [
                      "prompt_14",
                      12.93
                    ],
                    [
                      "prompt_15",
                      84.09
                    ],
                    [
                      "prompt_16",
                      16.25
                    ],
                    [
                      "prompt_17",
                      14.29
                    ],
                    [
                      "prompt_18",
                      76.26
                    ],
                    [
                      "prompt_19",
                      6.17
                    ],
                    [
                      "prompt_20",
                      9.88
                    ],
                    [
                      "prompt_21",
                      5.55
                    ],
                    [
                      "prompt_22",
                      6.93
                    ],
                    [
                      "prompt_23",
                      149.23
                    ],
                    [
                      "prompt_24",
                      74.7
                    ],
                    [
                      "prompt_25",
                      18.73
                    ],
                    [
                      "prompt_26",
                      15.83
                    ],
                    [
                      "prompt_27",
                      311.97
                    ],
                    [
                      "prompt_28",
                      24.94
                    ],
                    [
                      "prompt_29",
                      62.74
                    ],
                    [
                      "prompt_30",
                      6.87
                    ],
                    [
                      "prompt_31",
                      22
                    ],
                    [
                      "prompt_32",
                      47.04
                    ],
                    [
                      "prompt_33",
                      12.46
                    ],
                    [
                      "prompt_34",
                      82.05
                    ],
                    [
                      "prompt_35",
                      146.47
                    ],
                    [
                      "prompt_36",
                      16.35
                    ],
                    [
                      "prompt_37",
                      19.43
                    ],
                    [
                      "prompt_38",
                      26.48
                    ],
                    [
                      "prompt_39",
                      88.53
                    ],
                    [
                      "prompt_40",
                      39.15
                    ],
                    [
                      "prompt_41",
                      90.08
                    ],
                    [
                      "prompt_42",
                      41.11
                    ],
                    [
                      "prompt_43",
                      155.43
                    ],
                    [
                      "prompt_44",
                      34.31
                    ],
                    [
                      "prompt_45",
                      24.83
                    ],
                    [
                      "prompt_46",
                      118.73
                    ],
                    [
                      "prompt_48",
                      34.74
                    ],
                    [
                      "prompt_49",
                      47.64
                    ],
                    [
                      "prompt_50",
                      8.1
                    ],
                    [
                      "prompt_51",
                      42.58
                    ],
                    [
                      "prompt_52",
                      29.57
                    ],
                    [
                      "prompt_53",
                      37.46
                    ],
                    [
                      "prompt_54",
                      17.88
                    ],
                    [
                      "prompt_55",
                      18.12
                    ],
                    [
                      "prompt_56",
                      10.43
                    ],
                    [
                      "prompt_57",
                      49.31
                    ],
                    [
                      "prompt_58",
                      62.98
                    ],
                    [
                      "prompt_59",
                      14.54
                    ],
                    [
                      "prompt_60",
                      8.54
                    ],
                    [
                      "prompt_61",
                      22.37
                    ],
                    [
                      "prompt_62",
                      30.27
                    ],
                    [
                      "prompt_63",
                      70.4
                    ],
                    [
                      "prompt_64",
                      6.88
                    ],
                    [
                      "prompt_65",
                      22.18
                    ],
                    [
                      "prompt_66",
                      220.46
                    ],
                    [
                      "prompt_67",
                      125.61
                    ],
                    [
                      "prompt_68",
                      9.39
                    ],
                    [
                      "prompt_69",
                      128.93
                    ],
                    [
                      "prompt_70",
                      70.67
                    ],
                    [
                      "prompt_71",
                      5.92
                    ],
                    [
                      "prompt_72",
                      13.52
                    ],
                    [
                      "prompt_73",
                      39.7
                    ],
                    [
                      "prompt_74",
                      25.73
                    ],
                    [
                      "prompt_75",
                      5.23
                    ],
                    [
                      "prompt_76",
                      16.5
                    ],
                    [
                      "prompt_77",
                      22.15
                    ],
                    [
                      "prompt_78",
                      492.97
                    ],
                    [
                      "prompt_79",
                      148.99
                    ],
                    [
                      "prompt_80",
                      45.75
                    ],
                    [
                      "prompt_81",
                      7.62
                    ],
                    [
                      "prompt_82",
                      49.07
                    ],
                    [
                      "prompt_83",
                      36.99
                    ],
                    [
                      "prompt_84",
                      35.46
                    ],
                    [
                      "prompt_85",
                      23.14
                    ],
                    [
                      "prompt_86",
                      18.27
                    ],
                    [
                      "prompt_87",
                      20.8
                    ],
                    [
                      "prompt_88",
                      4.77
                    ],
                    [
                      "prompt_89",
                      169.47
                    ],
                    [
                      "prompt_90",
                      28.9
                    ],
                    [
                      "prompt_91",
                      34.51
                    ],
                    [
                      "prompt_92",
                      11.86
                    ],
                    [
                      "prompt_93",
                      48.82
                    ],
                    [
                      "prompt_94",
                      20
                    ],
                    [
                      "prompt_95",
                      3.82
                    ],
                    [
                      "prompt_96",
                      40.52
                    ],
                    [
                      "prompt_97",
                      4.03
                    ],
                    [
                      "prompt_98",
                      27.55
                    ],
                    [
                      "prompt_99",
                      33.29
                    ]
                  ],
                  "hovertemplate": "model=mistral<br>total_tokens=%{x}<br>duration_seconds=%{y}<br>estimated_energy_kwh=%{z}<br>tokens_per_second=%{customdata[1]}<br>prompt_id=%{customdata[0]}<extra></extra>",
                  "legendgroup": "mistral",
                  "marker": {
                    "color": "#00cc96",
                    "size": {
                      "bdata": "rkfhehSuC0DXo3A9CpdLQNejcD0KN1BAAAAAAACAP0AK16NwPQoeQArXo3A9KkNAFK5H4XqkVkApXI/C9ehKQArXo3A9iiBAcT0K16PwSkAzMzMzMzMZQFK4HoXr0StA4XoUrkfhGEAfhetRuDZoQFyPwvUo3ClA9ihcj8IFVUAAAAAAAEAwQBSuR+F6lCxAcT0K16MQU0CuR+F6FK4YQMP1KFyPwiNAMzMzMzMzFkC4HoXrUbgbQI/C9Shcp2JAzczMzMysUkB7FK5H4boyQClcj8L1qC9A7FG4HoV/c0BxPQrXo/A4QB+F61G4Xk9AexSuR+F6G0AAAAAAAAA2QIXrUbgehUdA7FG4HoXrKEAzMzMzM4NUQNejcD0KT2JAmpmZmZlZMECuR+F6FG4zQHsUrkfhejpAUrgeheshVkAzMzMzM5NDQIXrUbgehVZArkfhehSORED2KFyPwm1jQEjhehSuJ0FAFK5H4XrUOEAfhetRuK5dQB+F61G4XkFAUrgehevRR0AzMzMzMzMgQArXo3A9SkVAUrgeheuRPUB7FK5H4bpCQOF6FK5H4TFAH4XrUbgeMkBcj8L1KNwkQEjhehSup0hAPQrXo3B9T0AUrkfhehQtQBSuR+F6FCFAH4XrUbheNkCF61G4HkU+QJqZmZmZmVFAhetRuB6FG0CuR+F6FC42QB+F61G4jmtA16NwPQpnX0BI4XoUrsciQPYoXI/CHWBAexSuR+GqUUCuR+F6FK4XQArXo3A9CitAmpmZmZnZQ0B7FK5H4bo5QOxRuB6F6xRAAAAAAACAMEBmZmZmZiY2QOxRuB6Fz35ASOF6FK6fYkAAAAAAAOBGQHsUrkfheh5AKVyPwvWISEAfhetRuH5CQHsUrkfhukFApHA9CtcjN0CF61G4HkUyQM3MzMzMzDRAFK5H4XoUE0DXo3A9Ci9lQGZmZmZm5jxA4XoUrkdBQUC4HoXrUbgnQClcj8L1aEhAAAAAAAAANECPwvUoXI8OQMP1KFyPQkRAH4XrUbgeEEDNzMzMzIw7QIXrUbgepUBA",
                      "dtype": "f8"
                    },
                    "sizemode": "area",
                    "sizeref": 4.85955,
                    "symbol": "circle"
                  },
                  "mode": "markers",
                  "name": "mistral",
                  "scene": "scene",
                  "showlegend": true,
                  "type": "scatter3d",
                  "x": {
                    "bdata": "QABiAIIAWABYAHAAHQGZAD0AwABhAD8AWACNAUkAhgBHAEEAZgBDAIsAQABwAJEBbgFMADwAbQJBAG8ARwC6AGwA/wDVAOgAPgBKAD4AFwI+AOsASgAoAWsAOwDUAjwAUQBEACoBQQBBAEAAWgA/AE8AXQBGACEAPQCAAOUBSABIANQBFwIyAAQBawA7AEUARgA/AGAATQBlAJADvgGBAD8ARgBAAEAAXgBZAEgASAARAUIAOwA9ALsAQABGAOUAPwAiAD8A",
                    "dtype": "i2"
                  },
                  "y": {
                    "bdata": "EoPAyqGFMkDRItv5fmr8P9V46SYxCABA8tJNYhBYBkD+1HjpJnEnQMdLN4lBYAdAkxgEVg4tCUBYObTIdr4GQAAAAAAAgB1AGy/dJAaBDEASg8DKocUuQB+F61G4HhJAHVpkO99PLEAxCKwcWmQAQPp+arx0kxZAGy/dJAaB+T9g5dAi23kRQOOlm8QgMBJAnMQgsHJo9T/TTWIQWLklQOF6FK5HISxAJQaBlUMLJ0DsUbgehSswQOXQItv5fgVAmpmZmZmZE0Aj2/l+ajwQQB1aZDvfTw5AQmDl0CLb/z8MAiuHFtkEQOf7qfHSTfw/kxgEVg6tJEAOLbKd7+cgQJHtfD81XgJAf2q8dJN4NED4U+Olm8QEQPLSTWIQWPk/8tJNYhBYDkBGtvP91HgOQCPb+X5qvAJAeekmMQgsGEDy0k1iEFj5P6wcWmQ73wRAzczMzMzM/D8QWDm0yHb+P8HKoUW28whANV66SQwCA0AxCKwcWmQYQG8Sg8DKofs/MzMzMzMz+z8/NV66ScwgQMuhRbbz/RtAL90kBoGVAUDD9Shcj8L7P6RwPQrXowxAke18PzXeE0D0/dR46SYYQG8Sg8DKofk/bxKDwMqh9z/D9Shcj0ITQLbz/dR46Q5AN4lBYOXQBUDRItv5fuoQQHWTGARWjhtAVg4tsp3vJEBg5dAi2/kJQJZDi2zn+wBA8KfGSzcJEUCyne+nxksVQIlBYOXQIgBA001iEFg5+D/jpZvEIPAjQOxRuB6FaxRAaJHtfD81/D8v3SQGgZUDQPLSTWIQWDJAKVyPwvWoEkA9CtejcD0SQJqZmZmZmf0/i2zn+6nxB0BaZDvfT40GQJhuEoPAiiBAokW28/3U9j+uR+F6FK77P+F6FK5H4fw/c2iR7Xw/EEB7FK5H4XoTQOOlm8QgsAtAO99PjZcuLkAtsp3vp8b5PxKDwMqhRQJAXI/C9Shc+z/fT42XbpIUQKRwPQrXow5AmpmZmZmZCUAdWmQ7308yQLTIdr6fmhZAsHJoke08L0BYObTIdr7zPxKDwMqhRf4/",
                    "dtype": "f8"
                  },
                  "z": {
                    "bdata": "8WjjiLX4dD9YHM78ag6AP5T2Bl+YTIU/S7A4nPnVfD9LsDic+dV8P9L7xteeWYI/1CtlGeJYlz9v05/9SBGJPwXAeAYN/XM/aR1VTRB1jz8Nq3gj88h/P03bv7LSpHQ/S7A4nPnVfD/eVKTC2EKgP7JjIxCv63c/3BFOC170hT9rSNxj6UN3P5T2Bl+YTHU/oDcVqTC2gD/cEU4LXvR1P/XzpiIVxoY/8WjjiLX4dD/S+8bXnlmCP7Abti3KbKA/CCC1iZP7nT+eDI6SV+d4P2EyVTAqqXM/yNKHLqhvqT+U9gZfmEx1PwE1tWytL4I/a0jcY+lDdz9+dOrKZ3mOP4vgfyvZsYE/iIVa07zjlD9QNuUK73KRPxoXDoRkAZM/qU2c3O9QdD9W8UbmkT94P6lNnNzvUHQ/J6CJsOHppT+pTZzc71B0P1XBqKROQJM/VvFG5pE/eD9W8UbmkT+YP7kZbsDnh4E/vqQxWkdVcz9kkpGzsKetP2EyVTAqqXM/0NA/wcWKej+An3HhQEh2Pyi4WFGDaZg/lPYGX5hMdT+U9gZfmEx1P/Fo44i1+HQ/kst/SL99fT9N27+y0qR0P4m1+BQA43k/fnTqymd5fj/HuriNBvB2PziEKjV7oGU/BcB4Bg39cz/xaOOItfiEP+hqK/aX3aM/D9b/OcyXdz8P1v85zJd3P+zdH+9VK6M/J6CJsOHppT/8qfHSTWJwP5T2Bl+YTJU/uRluwOeHgT++pDFaR1VzPyMtlbcjnHY/x7q4jQbwdj9N27+y0qR0P2kdVU0QdX8/QZqxaDo7eT/OcAM+P4yAP3aJ6q2BrbI/ahg+IqZEoj/CL/XzpiKFP03bv7LSpHQ/x7q4jQbwdj/xaOOItfh0P/Fo44i1+HQ/IQIOoUrNfj/uPVxy3Cl9Pw/W/znMl3c/D9b/OcyXdz/ogvqWOV2WPziEKjV7oHU/vqQxWkdVcz8FwHgGDf1zP087/DVZo44/8WjjiLX4dD/HuriNBvB2P99sc2N6wpI/Tdu/stKkdD+An3HhQEhmP03bv7LSpHQ/",
                    "dtype": "f8"
                  }
                }
              ],
              "layout": {
                "height": 600,
                "legend": {
                  "itemsizing": "constant",
                  "title": {
                    "text": "model"
                  },
                  "tracegroupgap": 0
                },
                "scene": {
                  "domain": {
                    "x": [
                      0,
                      1
                    ],
                    "y": [
                      0,
                      1
                    ]
                  },
                  "xaxis": {
                    "title": {
                      "text": "Total Tokens"
                    }
                  },
                  "yaxis": {
                    "title": {
                      "text": "Duration (seconds)"
                    }
                  },
                  "zaxis": {
                    "title": {
                      "text": "Energy (kWh)"
                    }
                  }
                },
                "template": {
                  "data": {
                    "bar": [
                      {
                        "error_x": {
                          "color": "#2a3f5f"
                        },
                        "error_y": {
                          "color": "#2a3f5f"
                        },
                        "marker": {
                          "line": {
                            "color": "#E5ECF6",
                            "width": 0.5
                          },
                          "pattern": {
                            "fillmode": "overlay",
                            "size": 10,
                            "solidity": 0.2
                          }
                        },
                        "type": "bar"
                      }
                    ],
                    "barpolar": [
                      {
                        "marker": {
                          "line": {
                            "color": "#E5ECF6",
                            "width": 0.5
                          },
                          "pattern": {
                            "fillmode": "overlay",
                            "size": 10,
                            "solidity": 0.2
                          }
                        },
                        "type": "barpolar"
                      }
                    ],
                    "carpet": [
                      {
                        "aaxis": {
                          "endlinecolor": "#2a3f5f",
                          "gridcolor": "white",
                          "linecolor": "white",
                          "minorgridcolor": "white",
                          "startlinecolor": "#2a3f5f"
                        },
                        "baxis": {
                          "endlinecolor": "#2a3f5f",
                          "gridcolor": "white",
                          "linecolor": "white",
                          "minorgridcolor": "white",
                          "startlinecolor": "#2a3f5f"
                        },
                        "type": "carpet"
                      }
                    ],
                    "choropleth": [
                      {
                        "colorbar": {
                          "outlinewidth": 0,
                          "ticks": ""
                        },
                        "type": "choropleth"
                      }
                    ],
                    "contour": [
                      {
                        "colorbar": {
                          "outlinewidth": 0,
                          "ticks": ""
                        },
                        "colorscale": [
                          [
                            0,
                            "#0d0887"
                          ],
                          [
                            0.1111111111111111,
                            "#46039f"
                          ],
                          [
                            0.2222222222222222,
                            "#7201a8"
                          ],
                          [
                            0.3333333333333333,
                            "#9c179e"
                          ],
                          [
                            0.4444444444444444,
                            "#bd3786"
                          ],
                          [
                            0.5555555555555556,
                            "#d8576b"
                          ],
                          [
                            0.6666666666666666,
                            "#ed7953"
                          ],
                          [
                            0.7777777777777778,
                            "#fb9f3a"
                          ],
                          [
                            0.8888888888888888,
                            "#fdca26"
                          ],
                          [
                            1,
                            "#f0f921"
                          ]
                        ],
                        "type": "contour"
                      }
                    ],
                    "contourcarpet": [
                      {
                        "colorbar": {
                          "outlinewidth": 0,
                          "ticks": ""
                        },
                        "type": "contourcarpet"
                      }
                    ],
                    "heatmap": [
                      {
                        "colorbar": {
                          "outlinewidth": 0,
                          "ticks": ""
                        },
                        "colorscale": [
                          [
                            0,
                            "#0d0887"
                          ],
                          [
                            0.1111111111111111,
                            "#46039f"
                          ],
                          [
                            0.2222222222222222,
                            "#7201a8"
                          ],
                          [
                            0.3333333333333333,
                            "#9c179e"
                          ],
                          [
                            0.4444444444444444,
                            "#bd3786"
                          ],
                          [
                            0.5555555555555556,
                            "#d8576b"
                          ],
                          [
                            0.6666666666666666,
                            "#ed7953"
                          ],
                          [
                            0.7777777777777778,
                            "#fb9f3a"
                          ],
                          [
                            0.8888888888888888,
                            "#fdca26"
                          ],
                          [
                            1,
                            "#f0f921"
                          ]
                        ],
                        "type": "heatmap"
                      }
                    ],
                    "histogram": [
                      {
                        "marker": {
                          "pattern": {
                            "fillmode": "overlay",
                            "size": 10,
                            "solidity": 0.2
                          }
                        },
                        "type": "histogram"
                      }
                    ],
                    "histogram2d": [
                      {
                        "colorbar": {
                          "outlinewidth": 0,
                          "ticks": ""
                        },
                        "colorscale": [
                          [
                            0,
                            "#0d0887"
                          ],
                          [
                            0.1111111111111111,
                            "#46039f"
                          ],
                          [
                            0.2222222222222222,
                            "#7201a8"
                          ],
                          [
                            0.3333333333333333,
                            "#9c179e"
                          ],
                          [
                            0.4444444444444444,
                            "#bd3786"
                          ],
                          [
                            0.5555555555555556,
                            "#d8576b"
                          ],
                          [
                            0.6666666666666666,
                            "#ed7953"
                          ],
                          [
                            0.7777777777777778,
                            "#fb9f3a"
                          ],
                          [
                            0.8888888888888888,
                            "#fdca26"
                          ],
                          [
                            1,
                            "#f0f921"
                          ]
                        ],
                        "type": "histogram2d"
                      }
                    ],
                    "histogram2dcontour": [
                      {
                        "colorbar": {
                          "outlinewidth": 0,
                          "ticks": ""
                        },
                        "colorscale": [
                          [
                            0,
                            "#0d0887"
                          ],
                          [
                            0.1111111111111111,
                            "#46039f"
                          ],
                          [
                            0.2222222222222222,
                            "#7201a8"
                          ],
                          [
                            0.3333333333333333,
                            "#9c179e"
                          ],
                          [
                            0.4444444444444444,
                            "#bd3786"
                          ],
                          [
                            0.5555555555555556,
                            "#d8576b"
                          ],
                          [
                            0.6666666666666666,
                            "#ed7953"
                          ],
                          [
                            0.7777777777777778,
                            "#fb9f3a"
                          ],
                          [
                            0.8888888888888888,
                            "#fdca26"
                          ],
                          [
                            1,
                            "#f0f921"
                          ]
                        ],
                        "type": "histogram2dcontour"
                      }
                    ],
                    "mesh3d": [
                      {
                        "colorbar": {
                          "outlinewidth": 0,
                          "ticks": ""
                        },
                        "type": "mesh3d"
                      }
                    ],
                    "parcoords": [
                      {
                        "line": {
                          "colorbar": {
                            "outlinewidth": 0,
                            "ticks": ""
                          }
                        },
                        "type": "parcoords"
                      }
                    ],
                    "pie": [
                      {
                        "automargin": true,
                        "type": "pie"
                      }
                    ],
                    "scatter": [
                      {
                        "fillpattern": {
                          "fillmode": "overlay",
                          "size": 10,
                          "solidity": 0.2
                        },
                        "type": "scatter"
                      }
                    ],
                    "scatter3d": [
                      {
                        "line": {
                          "colorbar": {
                            "outlinewidth": 0,
                            "ticks": ""
                          }
                        },
                        "marker": {
                          "colorbar": {
                            "outlinewidth": 0,
                            "ticks": ""
                          }
                        },
                        "type": "scatter3d"
                      }
                    ],
                    "scattercarpet": [
                      {
                        "marker": {
                          "colorbar": {
                            "outlinewidth": 0,
                            "ticks": ""
                          }
                        },
                        "type": "scattercarpet"
                      }
                    ],
                    "scattergeo": [
                      {
                        "marker": {
                          "colorbar": {
                            "outlinewidth": 0,
                            "ticks": ""
                          }
                        },
                        "type": "scattergeo"
                      }
                    ],
                    "scattergl": [
                      {
                        "marker": {
                          "colorbar": {
                            "outlinewidth": 0,
                            "ticks": ""
                          }
                        },
                        "type": "scattergl"
                      }
                    ],
                    "scattermap": [
                      {
                        "marker": {
                          "colorbar": {
                            "outlinewidth": 0,
                            "ticks": ""
                          }
                        },
                        "type": "scattermap"
                      }
                    ],
                    "scattermapbox": [
                      {
                        "marker": {
                          "colorbar": {
                            "outlinewidth": 0,
                            "ticks": ""
                          }
                        },
                        "type": "scattermapbox"
                      }
                    ],
                    "scatterpolar": [
                      {
                        "marker": {
                          "colorbar": {
                            "outlinewidth": 0,
                            "ticks": ""
                          }
                        },
                        "type": "scatterpolar"
                      }
                    ],
                    "scatterpolargl": [
                      {
                        "marker": {
                          "colorbar": {
                            "outlinewidth": 0,
                            "ticks": ""
                          }
                        },
                        "type": "scatterpolargl"
                      }
                    ],
                    "scatterternary": [
                      {
                        "marker": {
                          "colorbar": {
                            "outlinewidth": 0,
                            "ticks": ""
                          }
                        },
                        "type": "scatterternary"
                      }
                    ],
                    "surface": [
                      {
                        "colorbar": {
                          "outlinewidth": 0,
                          "ticks": ""
                        },
                        "colorscale": [
                          [
                            0,
                            "#0d0887"
                          ],
                          [
                            0.1111111111111111,
                            "#46039f"
                          ],
                          [
                            0.2222222222222222,
                            "#7201a8"
                          ],
                          [
                            0.3333333333333333,
                            "#9c179e"
                          ],
                          [
                            0.4444444444444444,
                            "#bd3786"
                          ],
                          [
                            0.5555555555555556,
                            "#d8576b"
                          ],
                          [
                            0.6666666666666666,
                            "#ed7953"
                          ],
                          [
                            0.7777777777777778,
                            "#fb9f3a"
                          ],
                          [
                            0.8888888888888888,
                            "#fdca26"
                          ],
                          [
                            1,
                            "#f0f921"
                          ]
                        ],
                        "type": "surface"
                      }
                    ],
                    "table": [
                      {
                        "cells": {
                          "fill": {
                            "color": "#EBF0F8"
                          },
                          "line": {
                            "color": "white"
                          }
                        },
                        "header": {
                          "fill": {
                            "color": "#C8D4E3"
                          },
                          "line": {
                            "color": "white"
                          }
                        },
                        "type": "table"
                      }
                    ]
                  },
                  "layout": {
                    "annotationdefaults": {
                      "arrowcolor": "#2a3f5f",
                      "arrowhead": 0,
                      "arrowwidth": 1
                    },
                    "autotypenumbers": "strict",
                    "coloraxis": {
                      "colorbar": {
                        "outlinewidth": 0,
                        "ticks": ""
                      }
                    },
                    "colorscale": {
                      "diverging": [
                        [
                          0,
                          "#8e0152"
                        ],
                        [
                          0.1,
                          "#c51b7d"
                        ],
                        [
                          0.2,
                          "#de77ae"
                        ],
                        [
                          0.3,
                          "#f1b6da"
                        ],
                        [
                          0.4,
                          "#fde0ef"
                        ],
                        [
                          0.5,
                          "#f7f7f7"
                        ],
                        [
                          0.6,
                          "#e6f5d0"
                        ],
                        [
                          0.7,
                          "#b8e186"
                        ],
                        [
                          0.8,
                          "#7fbc41"
                        ],
                        [
                          0.9,
                          "#4d9221"
                        ],
                        [
                          1,
                          "#276419"
                        ]
                      ],
                      "sequential": [
                        [
                          0,
                          "#0d0887"
                        ],
                        [
                          0.1111111111111111,
                          "#46039f"
                        ],
                        [
                          0.2222222222222222,
                          "#7201a8"
                        ],
                        [
                          0.3333333333333333,
                          "#9c179e"
                        ],
                        [
                          0.4444444444444444,
                          "#bd3786"
                        ],
                        [
                          0.5555555555555556,
                          "#d8576b"
                        ],
                        [
                          0.6666666666666666,
                          "#ed7953"
                        ],
                        [
                          0.7777777777777778,
                          "#fb9f3a"
                        ],
                        [
                          0.8888888888888888,
                          "#fdca26"
                        ],
                        [
                          1,
                          "#f0f921"
                        ]
                      ],
                      "sequentialminus": [
                        [
                          0,
                          "#0d0887"
                        ],
                        [
                          0.1111111111111111,
                          "#46039f"
                        ],
                        [
                          0.2222222222222222,
                          "#7201a8"
                        ],
                        [
                          0.3333333333333333,
                          "#9c179e"
                        ],
                        [
                          0.4444444444444444,
                          "#bd3786"
                        ],
                        [
                          0.5555555555555556,
                          "#d8576b"
                        ],
                        [
                          0.6666666666666666,
                          "#ed7953"
                        ],
                        [
                          0.7777777777777778,
                          "#fb9f3a"
                        ],
                        [
                          0.8888888888888888,
                          "#fdca26"
                        ],
                        [
                          1,
                          "#f0f921"
                        ]
                      ]
                    },
                    "colorway": [
                      "#636efa",
                      "#EF553B",
                      "#00cc96",
                      "#ab63fa",
                      "#FFA15A",
                      "#19d3f3",
                      "#FF6692",
                      "#B6E880",
                      "#FF97FF",
                      "#FECB52"
                    ],
                    "font": {
                      "color": "#2a3f5f"
                    },
                    "geo": {
                      "bgcolor": "white",
                      "lakecolor": "white",
                      "landcolor": "#E5ECF6",
                      "showlakes": true,
                      "showland": true,
                      "subunitcolor": "white"
                    },
                    "hoverlabel": {
                      "align": "left"
                    },
                    "hovermode": "closest",
                    "mapbox": {
                      "style": "light"
                    },
                    "paper_bgcolor": "white",
                    "plot_bgcolor": "#E5ECF6",
                    "polar": {
                      "angularaxis": {
                        "gridcolor": "white",
                        "linecolor": "white",
                        "ticks": ""
                      },
                      "bgcolor": "#E5ECF6",
                      "radialaxis": {
                        "gridcolor": "white",
                        "linecolor": "white",
                        "ticks": ""
                      }
                    },
                    "scene": {
                      "xaxis": {
                        "backgroundcolor": "#E5ECF6",
                        "gridcolor": "white",
                        "gridwidth": 2,
                        "linecolor": "white",
                        "showbackground": true,
                        "ticks": "",
                        "zerolinecolor": "white"
                      },
                      "yaxis": {
                        "backgroundcolor": "#E5ECF6",
                        "gridcolor": "white",
                        "gridwidth": 2,
                        "linecolor": "white",
                        "showbackground": true,
                        "ticks": "",
                        "zerolinecolor": "white"
                      },
                      "zaxis": {
                        "backgroundcolor": "#E5ECF6",
                        "gridcolor": "white",
                        "gridwidth": 2,
                        "linecolor": "white",
                        "showbackground": true,
                        "ticks": "",
                        "zerolinecolor": "white"
                      }
                    },
                    "shapedefaults": {
                      "line": {
                        "color": "#2a3f5f"
                      }
                    },
                    "ternary": {
                      "aaxis": {
                        "gridcolor": "white",
                        "linecolor": "white",
                        "ticks": ""
                      },
                      "baxis": {
                        "gridcolor": "white",
                        "linecolor": "white",
                        "ticks": ""
                      },
                      "bgcolor": "#E5ECF6",
                      "caxis": {
                        "gridcolor": "white",
                        "linecolor": "white",
                        "ticks": ""
                      }
                    },
                    "title": {
                      "x": 0.05
                    },
                    "xaxis": {
                      "automargin": true,
                      "gridcolor": "white",
                      "linecolor": "white",
                      "ticks": "",
                      "title": {
                        "standoff": 15
                      },
                      "zerolinecolor": "white",
                      "zerolinewidth": 2
                    },
                    "yaxis": {
                      "automargin": true,
                      "gridcolor": "white",
                      "linecolor": "white",
                      "ticks": "",
                      "title": {
                        "standoff": 15
                      },
                      "zerolinecolor": "white",
                      "zerolinewidth": 2
                    }
                  }
                },
                "title": {
                  "text": "3D Performance Analysis: Tokens vs Time vs Energy"
                },
                "width": 800
              }
            }
          },
          "metadata": {},
          "output_type": "display_data"
        },
        {
          "data": {
            "application/vnd.plotly.v1+json": {
              "config": {
                "plotlyServerURL": "https://plot.ly"
              },
              "data": [
                {
                  "coloraxis": "coloraxis",
                  "hovertemplate": "x: %{x}<br>y: %{y}<br>color: %{z}<extra></extra>",
                  "name": "0",
                  "texttemplate": "%{z}",
                  "type": "heatmap",
                  "x": [
                    "duration_seconds",
                    "total_tokens",
                    "tokens_per_second",
                    "estimated_energy_kwh"
                  ],
                  "xaxis": "x",
                  "y": [
                    "duration_seconds",
                    "total_tokens",
                    "tokens_per_second",
                    "estimated_energy_kwh"
                  ],
                  "yaxis": "y",
                  "z": {
                    "bdata": "AAAAAAAA8D8b7u0lz3S0v0L/wsDUPdS/YlTM2ebkn78b7u0lz3S0vwAAAAAAAPA/dXu4RkKR5j/BiSJAc6jtP0L/wsDUPdS/dXu4RkKR5j8AAAAAAADwP8EgYKS5ROA/YlTM2ebkn7/BiSJAc6jtP8EgYKS5ROA/AAAAAAAA8D8=",
                    "dtype": "f8",
                    "shape": "4, 4"
                  }
                }
              ],
              "layout": {
                "coloraxis": {
                  "colorscale": [
                    [
                      0,
                      "#0d0887"
                    ],
                    [
                      0.1111111111111111,
                      "#46039f"
                    ],
                    [
                      0.2222222222222222,
                      "#7201a8"
                    ],
                    [
                      0.3333333333333333,
                      "#9c179e"
                    ],
                    [
                      0.4444444444444444,
                      "#bd3786"
                    ],
                    [
                      0.5555555555555556,
                      "#d8576b"
                    ],
                    [
                      0.6666666666666666,
                      "#ed7953"
                    ],
                    [
                      0.7777777777777778,
                      "#fb9f3a"
                    ],
                    [
                      0.8888888888888888,
                      "#fdca26"
                    ],
                    [
                      1,
                      "#f0f921"
                    ]
                  ]
                },
                "template": {
                  "data": {
                    "bar": [
                      {
                        "error_x": {
                          "color": "#2a3f5f"
                        },
                        "error_y": {
                          "color": "#2a3f5f"
                        },
                        "marker": {
                          "line": {
                            "color": "#E5ECF6",
                            "width": 0.5
                          },
                          "pattern": {
                            "fillmode": "overlay",
                            "size": 10,
                            "solidity": 0.2
                          }
                        },
                        "type": "bar"
                      }
                    ],
                    "barpolar": [
                      {
                        "marker": {
                          "line": {
                            "color": "#E5ECF6",
                            "width": 0.5
                          },
                          "pattern": {
                            "fillmode": "overlay",
                            "size": 10,
                            "solidity": 0.2
                          }
                        },
                        "type": "barpolar"
                      }
                    ],
                    "carpet": [
                      {
                        "aaxis": {
                          "endlinecolor": "#2a3f5f",
                          "gridcolor": "white",
                          "linecolor": "white",
                          "minorgridcolor": "white",
                          "startlinecolor": "#2a3f5f"
                        },
                        "baxis": {
                          "endlinecolor": "#2a3f5f",
                          "gridcolor": "white",
                          "linecolor": "white",
                          "minorgridcolor": "white",
                          "startlinecolor": "#2a3f5f"
                        },
                        "type": "carpet"
                      }
                    ],
                    "choropleth": [
                      {
                        "colorbar": {
                          "outlinewidth": 0,
                          "ticks": ""
                        },
                        "type": "choropleth"
                      }
                    ],
                    "contour": [
                      {
                        "colorbar": {
                          "outlinewidth": 0,
                          "ticks": ""
                        },
                        "colorscale": [
                          [
                            0,
                            "#0d0887"
                          ],
                          [
                            0.1111111111111111,
                            "#46039f"
                          ],
                          [
                            0.2222222222222222,
                            "#7201a8"
                          ],
                          [
                            0.3333333333333333,
                            "#9c179e"
                          ],
                          [
                            0.4444444444444444,
                            "#bd3786"
                          ],
                          [
                            0.5555555555555556,
                            "#d8576b"
                          ],
                          [
                            0.6666666666666666,
                            "#ed7953"
                          ],
                          [
                            0.7777777777777778,
                            "#fb9f3a"
                          ],
                          [
                            0.8888888888888888,
                            "#fdca26"
                          ],
                          [
                            1,
                            "#f0f921"
                          ]
                        ],
                        "type": "contour"
                      }
                    ],
                    "contourcarpet": [
                      {
                        "colorbar": {
                          "outlinewidth": 0,
                          "ticks": ""
                        },
                        "type": "contourcarpet"
                      }
                    ],
                    "heatmap": [
                      {
                        "colorbar": {
                          "outlinewidth": 0,
                          "ticks": ""
                        },
                        "colorscale": [
                          [
                            0,
                            "#0d0887"
                          ],
                          [
                            0.1111111111111111,
                            "#46039f"
                          ],
                          [
                            0.2222222222222222,
                            "#7201a8"
                          ],
                          [
                            0.3333333333333333,
                            "#9c179e"
                          ],
                          [
                            0.4444444444444444,
                            "#bd3786"
                          ],
                          [
                            0.5555555555555556,
                            "#d8576b"
                          ],
                          [
                            0.6666666666666666,
                            "#ed7953"
                          ],
                          [
                            0.7777777777777778,
                            "#fb9f3a"
                          ],
                          [
                            0.8888888888888888,
                            "#fdca26"
                          ],
                          [
                            1,
                            "#f0f921"
                          ]
                        ],
                        "type": "heatmap"
                      }
                    ],
                    "histogram": [
                      {
                        "marker": {
                          "pattern": {
                            "fillmode": "overlay",
                            "size": 10,
                            "solidity": 0.2
                          }
                        },
                        "type": "histogram"
                      }
                    ],
                    "histogram2d": [
                      {
                        "colorbar": {
                          "outlinewidth": 0,
                          "ticks": ""
                        },
                        "colorscale": [
                          [
                            0,
                            "#0d0887"
                          ],
                          [
                            0.1111111111111111,
                            "#46039f"
                          ],
                          [
                            0.2222222222222222,
                            "#7201a8"
                          ],
                          [
                            0.3333333333333333,
                            "#9c179e"
                          ],
                          [
                            0.4444444444444444,
                            "#bd3786"
                          ],
                          [
                            0.5555555555555556,
                            "#d8576b"
                          ],
                          [
                            0.6666666666666666,
                            "#ed7953"
                          ],
                          [
                            0.7777777777777778,
                            "#fb9f3a"
                          ],
                          [
                            0.8888888888888888,
                            "#fdca26"
                          ],
                          [
                            1,
                            "#f0f921"
                          ]
                        ],
                        "type": "histogram2d"
                      }
                    ],
                    "histogram2dcontour": [
                      {
                        "colorbar": {
                          "outlinewidth": 0,
                          "ticks": ""
                        },
                        "colorscale": [
                          [
                            0,
                            "#0d0887"
                          ],
                          [
                            0.1111111111111111,
                            "#46039f"
                          ],
                          [
                            0.2222222222222222,
                            "#7201a8"
                          ],
                          [
                            0.3333333333333333,
                            "#9c179e"
                          ],
                          [
                            0.4444444444444444,
                            "#bd3786"
                          ],
                          [
                            0.5555555555555556,
                            "#d8576b"
                          ],
                          [
                            0.6666666666666666,
                            "#ed7953"
                          ],
                          [
                            0.7777777777777778,
                            "#fb9f3a"
                          ],
                          [
                            0.8888888888888888,
                            "#fdca26"
                          ],
                          [
                            1,
                            "#f0f921"
                          ]
                        ],
                        "type": "histogram2dcontour"
                      }
                    ],
                    "mesh3d": [
                      {
                        "colorbar": {
                          "outlinewidth": 0,
                          "ticks": ""
                        },
                        "type": "mesh3d"
                      }
                    ],
                    "parcoords": [
                      {
                        "line": {
                          "colorbar": {
                            "outlinewidth": 0,
                            "ticks": ""
                          }
                        },
                        "type": "parcoords"
                      }
                    ],
                    "pie": [
                      {
                        "automargin": true,
                        "type": "pie"
                      }
                    ],
                    "scatter": [
                      {
                        "fillpattern": {
                          "fillmode": "overlay",
                          "size": 10,
                          "solidity": 0.2
                        },
                        "type": "scatter"
                      }
                    ],
                    "scatter3d": [
                      {
                        "line": {
                          "colorbar": {
                            "outlinewidth": 0,
                            "ticks": ""
                          }
                        },
                        "marker": {
                          "colorbar": {
                            "outlinewidth": 0,
                            "ticks": ""
                          }
                        },
                        "type": "scatter3d"
                      }
                    ],
                    "scattercarpet": [
                      {
                        "marker": {
                          "colorbar": {
                            "outlinewidth": 0,
                            "ticks": ""
                          }
                        },
                        "type": "scattercarpet"
                      }
                    ],
                    "scattergeo": [
                      {
                        "marker": {
                          "colorbar": {
                            "outlinewidth": 0,
                            "ticks": ""
                          }
                        },
                        "type": "scattergeo"
                      }
                    ],
                    "scattergl": [
                      {
                        "marker": {
                          "colorbar": {
                            "outlinewidth": 0,
                            "ticks": ""
                          }
                        },
                        "type": "scattergl"
                      }
                    ],
                    "scattermap": [
                      {
                        "marker": {
                          "colorbar": {
                            "outlinewidth": 0,
                            "ticks": ""
                          }
                        },
                        "type": "scattermap"
                      }
                    ],
                    "scattermapbox": [
                      {
                        "marker": {
                          "colorbar": {
                            "outlinewidth": 0,
                            "ticks": ""
                          }
                        },
                        "type": "scattermapbox"
                      }
                    ],
                    "scatterpolar": [
                      {
                        "marker": {
                          "colorbar": {
                            "outlinewidth": 0,
                            "ticks": ""
                          }
                        },
                        "type": "scatterpolar"
                      }
                    ],
                    "scatterpolargl": [
                      {
                        "marker": {
                          "colorbar": {
                            "outlinewidth": 0,
                            "ticks": ""
                          }
                        },
                        "type": "scatterpolargl"
                      }
                    ],
                    "scatterternary": [
                      {
                        "marker": {
                          "colorbar": {
                            "outlinewidth": 0,
                            "ticks": ""
                          }
                        },
                        "type": "scatterternary"
                      }
                    ],
                    "surface": [
                      {
                        "colorbar": {
                          "outlinewidth": 0,
                          "ticks": ""
                        },
                        "colorscale": [
                          [
                            0,
                            "#0d0887"
                          ],
                          [
                            0.1111111111111111,
                            "#46039f"
                          ],
                          [
                            0.2222222222222222,
                            "#7201a8"
                          ],
                          [
                            0.3333333333333333,
                            "#9c179e"
                          ],
                          [
                            0.4444444444444444,
                            "#bd3786"
                          ],
                          [
                            0.5555555555555556,
                            "#d8576b"
                          ],
                          [
                            0.6666666666666666,
                            "#ed7953"
                          ],
                          [
                            0.7777777777777778,
                            "#fb9f3a"
                          ],
                          [
                            0.8888888888888888,
                            "#fdca26"
                          ],
                          [
                            1,
                            "#f0f921"
                          ]
                        ],
                        "type": "surface"
                      }
                    ],
                    "table": [
                      {
                        "cells": {
                          "fill": {
                            "color": "#EBF0F8"
                          },
                          "line": {
                            "color": "white"
                          }
                        },
                        "header": {
                          "fill": {
                            "color": "#C8D4E3"
                          },
                          "line": {
                            "color": "white"
                          }
                        },
                        "type": "table"
                      }
                    ]
                  },
                  "layout": {
                    "annotationdefaults": {
                      "arrowcolor": "#2a3f5f",
                      "arrowhead": 0,
                      "arrowwidth": 1
                    },
                    "autotypenumbers": "strict",
                    "coloraxis": {
                      "colorbar": {
                        "outlinewidth": 0,
                        "ticks": ""
                      }
                    },
                    "colorscale": {
                      "diverging": [
                        [
                          0,
                          "#8e0152"
                        ],
                        [
                          0.1,
                          "#c51b7d"
                        ],
                        [
                          0.2,
                          "#de77ae"
                        ],
                        [
                          0.3,
                          "#f1b6da"
                        ],
                        [
                          0.4,
                          "#fde0ef"
                        ],
                        [
                          0.5,
                          "#f7f7f7"
                        ],
                        [
                          0.6,
                          "#e6f5d0"
                        ],
                        [
                          0.7,
                          "#b8e186"
                        ],
                        [
                          0.8,
                          "#7fbc41"
                        ],
                        [
                          0.9,
                          "#4d9221"
                        ],
                        [
                          1,
                          "#276419"
                        ]
                      ],
                      "sequential": [
                        [
                          0,
                          "#0d0887"
                        ],
                        [
                          0.1111111111111111,
                          "#46039f"
                        ],
                        [
                          0.2222222222222222,
                          "#7201a8"
                        ],
                        [
                          0.3333333333333333,
                          "#9c179e"
                        ],
                        [
                          0.4444444444444444,
                          "#bd3786"
                        ],
                        [
                          0.5555555555555556,
                          "#d8576b"
                        ],
                        [
                          0.6666666666666666,
                          "#ed7953"
                        ],
                        [
                          0.7777777777777778,
                          "#fb9f3a"
                        ],
                        [
                          0.8888888888888888,
                          "#fdca26"
                        ],
                        [
                          1,
                          "#f0f921"
                        ]
                      ],
                      "sequentialminus": [
                        [
                          0,
                          "#0d0887"
                        ],
                        [
                          0.1111111111111111,
                          "#46039f"
                        ],
                        [
                          0.2222222222222222,
                          "#7201a8"
                        ],
                        [
                          0.3333333333333333,
                          "#9c179e"
                        ],
                        [
                          0.4444444444444444,
                          "#bd3786"
                        ],
                        [
                          0.5555555555555556,
                          "#d8576b"
                        ],
                        [
                          0.6666666666666666,
                          "#ed7953"
                        ],
                        [
                          0.7777777777777778,
                          "#fb9f3a"
                        ],
                        [
                          0.8888888888888888,
                          "#fdca26"
                        ],
                        [
                          1,
                          "#f0f921"
                        ]
                      ]
                    },
                    "colorway": [
                      "#636efa",
                      "#EF553B",
                      "#00cc96",
                      "#ab63fa",
                      "#FFA15A",
                      "#19d3f3",
                      "#FF6692",
                      "#B6E880",
                      "#FF97FF",
                      "#FECB52"
                    ],
                    "font": {
                      "color": "#2a3f5f"
                    },
                    "geo": {
                      "bgcolor": "white",
                      "lakecolor": "white",
                      "landcolor": "#E5ECF6",
                      "showlakes": true,
                      "showland": true,
                      "subunitcolor": "white"
                    },
                    "hoverlabel": {
                      "align": "left"
                    },
                    "hovermode": "closest",
                    "mapbox": {
                      "style": "light"
                    },
                    "paper_bgcolor": "white",
                    "plot_bgcolor": "#E5ECF6",
                    "polar": {
                      "angularaxis": {
                        "gridcolor": "white",
                        "linecolor": "white",
                        "ticks": ""
                      },
                      "bgcolor": "#E5ECF6",
                      "radialaxis": {
                        "gridcolor": "white",
                        "linecolor": "white",
                        "ticks": ""
                      }
                    },
                    "scene": {
                      "xaxis": {
                        "backgroundcolor": "#E5ECF6",
                        "gridcolor": "white",
                        "gridwidth": 2,
                        "linecolor": "white",
                        "showbackground": true,
                        "ticks": "",
                        "zerolinecolor": "white"
                      },
                      "yaxis": {
                        "backgroundcolor": "#E5ECF6",
                        "gridcolor": "white",
                        "gridwidth": 2,
                        "linecolor": "white",
                        "showbackground": true,
                        "ticks": "",
                        "zerolinecolor": "white"
                      },
                      "zaxis": {
                        "backgroundcolor": "#E5ECF6",
                        "gridcolor": "white",
                        "gridwidth": 2,
                        "linecolor": "white",
                        "showbackground": true,
                        "ticks": "",
                        "zerolinecolor": "white"
                      }
                    },
                    "shapedefaults": {
                      "line": {
                        "color": "#2a3f5f"
                      }
                    },
                    "ternary": {
                      "aaxis": {
                        "gridcolor": "white",
                        "linecolor": "white",
                        "ticks": ""
                      },
                      "baxis": {
                        "gridcolor": "white",
                        "linecolor": "white",
                        "ticks": ""
                      },
                      "bgcolor": "#E5ECF6",
                      "caxis": {
                        "gridcolor": "white",
                        "linecolor": "white",
                        "ticks": ""
                      }
                    },
                    "title": {
                      "x": 0.05
                    },
                    "xaxis": {
                      "automargin": true,
                      "gridcolor": "white",
                      "linecolor": "white",
                      "ticks": "",
                      "title": {
                        "standoff": 15
                      },
                      "zerolinecolor": "white",
                      "zerolinewidth": 2
                    },
                    "yaxis": {
                      "automargin": true,
                      "gridcolor": "white",
                      "linecolor": "white",
                      "ticks": "",
                      "title": {
                        "standoff": 15
                      },
                      "zerolinecolor": "white",
                      "zerolinewidth": 2
                    }
                  }
                },
                "title": {
                  "text": "Performance Metrics Correlation Matrix"
                },
                "xaxis": {
                  "anchor": "y",
                  "domain": [
                    0,
                    1
                  ]
                },
                "yaxis": {
                  "anchor": "x",
                  "autorange": "reversed",
                  "domain": [
                    0,
                    1
                  ]
                }
              }
            }
          },
          "metadata": {},
          "output_type": "display_data"
        }
      ],
      "source": [
        "# Interactive 3D Visualization\n",
        "if not df.empty:\n",
        "    # Create interactive 3D scatter plot\n",
        "    fig = px.scatter_3d(df, \n",
        "                        x='total_tokens', \n",
        "                        y='duration_seconds', \n",
        "                        z='estimated_energy_kwh',\n",
        "                        color='model',\n",
        "                        size='tokens_per_second',\n",
        "                        hover_data=['prompt_id', 'tokens_per_second'],\n",
        "                        title='3D Performance Analysis: Tokens vs Time vs Energy')\n",
        "    \n",
        "    fig.update_layout(\n",
        "        scene=dict(\n",
        "            xaxis_title='Total Tokens',\n",
        "            yaxis_title='Duration (seconds)',\n",
        "            zaxis_title='Energy (kWh)'\n",
        "        ),\n",
        "        width=800,\n",
        "        height=600\n",
        "    )\n",
        "    \n",
        "    fig.show()\n",
        "    \n",
        "    # Create correlation heatmap\n",
        "    numeric_cols = ['duration_seconds', 'total_tokens', 'tokens_per_second', 'estimated_energy_kwh']\n",
        "    correlation_matrix = df[numeric_cols].corr()\n",
        "    \n",
        "    fig2 = px.imshow(correlation_matrix, \n",
        "                    text_auto=True, \n",
        "                    aspect=\"auto\",\n",
        "                    title='Performance Metrics Correlation Matrix')\n",
        "    fig2.show()\n",
        "else:\n",
        "    print(\"No data available for interactive plots.\")\n"
      ]
    },
    {
      "cell_type": "code",
      "execution_count": 50,
      "metadata": {},
      "outputs": [
        {
          "name": "stdout",
          "output_type": "stream",
          "text": [
            "Efficiency Rankings:\n",
            "  1. llama: 424.3 tokens/sec\n",
            "  2. openai: 189.0 tokens/sec\n",
            "  3. mistral: 50.6 tokens/sec\n",
            "\n",
            "Energy Efficiency (tokens per kWh):\n",
            "  1. llama: 20001 tokens/kWh\n",
            "  2. mistral: 12500 tokens/kWh\n",
            "  3. openai: 10000 tokens/kWh\n",
            "\n",
            "Detailed Metrics:\n",
            "         avg_speed  avg_duration  total_energy  avg_energy_per_response  \\\n",
            "model                                                                     \n",
            "llama     424.3399        0.4406        0.9094                   0.0091   \n",
            "mistral    50.6437        5.1872        1.1955                   0.0121   \n",
            "openai    188.9974        1.0058        1.4744                   0.0147   \n",
            "\n",
            "         total_tokens  speed_score  energy_efficiency  overall_efficiency  \n",
            "model                                                                      \n",
            "llama           18189       1.0000         20001.0996              1.0000  \n",
            "mistral         14944       0.1193         12500.2091              0.3722  \n",
            "openai          14744       0.4454         10000.0000              0.4727  \n"
          ]
        }
      ],
      "source": [
        "# Efficiency Metrics and Rankings\n",
        "if not df.empty:\n",
        "    # Calculate efficiency metrics\n",
        "    efficiency_metrics = df.groupby('model').agg({\n",
        "        'tokens_per_second': 'mean',\n",
        "        'duration_seconds': 'mean',\n",
        "        'estimated_energy_kwh': ['sum', 'mean'],\n",
        "        'total_tokens': 'sum'\n",
        "    }).round(4)\n",
        "    \n",
        "    # Flatten column names\n",
        "    efficiency_metrics.columns = ['avg_speed', 'avg_duration', 'total_energy', 'avg_energy_per_response', 'total_tokens']\n",
        "    \n",
        "    # Calculate efficiency scores\n",
        "    efficiency_metrics['speed_score'] = efficiency_metrics['avg_speed'] / efficiency_metrics['avg_speed'].max()\n",
        "    efficiency_metrics['energy_efficiency'] = efficiency_metrics['total_tokens'] / efficiency_metrics['total_energy']\n",
        "    efficiency_metrics['overall_efficiency'] = (efficiency_metrics['speed_score'] + efficiency_metrics['energy_efficiency'] / efficiency_metrics['energy_efficiency'].max()) / 2\n",
        "    \n",
        "    print(\"Efficiency Rankings:\")\n",
        "    speed_ranking = efficiency_metrics.sort_values('avg_speed', ascending=False)\n",
        "    for i, (model, row) in enumerate(speed_ranking.iterrows(), 1):\n",
        "        print(f\"  {i}. {model}: {row['avg_speed']:.1f} tokens/sec\")\n",
        "    \n",
        "    print(\"\\nEnergy Efficiency (tokens per kWh):\")\n",
        "    energy_ranking = efficiency_metrics.sort_values('energy_efficiency', ascending=False)\n",
        "    for i, (model, row) in enumerate(energy_ranking.iterrows(), 1):\n",
        "        print(f\"  {i}. {model}: {row['energy_efficiency']:.0f} tokens/kWh\")\n",
        "    \n",
        "    print(\"\\nDetailed Metrics:\")\n",
        "    print(efficiency_metrics.round(4))\n",
        "else:\n",
        "    print(\"No data available.\")\n"
      ]
    },
    {
      "cell_type": "code",
      "execution_count": 51,
      "metadata": {},
      "outputs": [
        {
          "name": "stdout",
          "output_type": "stream",
          "text": [
            "Cost Analysis:\n",
            "  LLAMA: $0.0018 total, $0.000018 per response\n",
            "  MISTRAL: $0.0030 total, $0.000030 per response\n",
            "  OPENAI: $0.0022 total, $0.000022 per response\n",
            "\n",
            "Total: $0.0070 cost, 3.579370 kWh, 47,877 tokens\n"
          ]
        },
        {
          "data": {
            "image/png": "[encoded data removed]",
            "text/plain": [
              "<Figure size 1500x600 with 2 Axes>"
            ]
          },
          "metadata": {},
          "output_type": "display_data"
        }
      ],
      "source": [
        "# Cost and Resource Analysis\n",
        "if not df.empty:\n",
        "    # Estimate costs (these are rough estimates - actual costs depend on API pricing)\n",
        "    cost_estimates = {\n",
        "        'openai': 0.00015,  # $0.15 per 1K tokens (GPT-4o-mini)\n",
        "        'llama': 0.0001,    # $0.10 per 1K tokens (Groq)\n",
        "        'mistral': 0.0002   # $0.20 per 1K tokens (Mistral)\n",
        "    }\n",
        "    \n",
        "    # Calculate estimated costs\n",
        "    df['estimated_cost'] = df.apply(lambda row: (row['total_tokens'] / 1000) * cost_estimates.get(row['model'], 0.00015), axis=1)\n",
        "    \n",
        "    cost_analysis = df.groupby('model').agg({\n",
        "        'estimated_cost': ['sum', 'mean'],\n",
        "        'total_tokens': 'sum',\n",
        "        'estimated_energy_kwh': 'sum'\n",
        "    }).round(6)\n",
        "    \n",
        "    cost_analysis.columns = ['total_cost', 'avg_cost_per_response', 'total_tokens', 'total_energy']\n",
        "    \n",
        "    print(\"Cost Analysis:\")\n",
        "    for model, row in cost_analysis.iterrows():\n",
        "        print(f\"  {model.upper()}: ${row['total_cost']:.4f} total, ${row['avg_cost_per_response']:.6f} per response\")\n",
        "    \n",
        "    total_cost = cost_analysis['total_cost'].sum()\n",
        "    total_energy = cost_analysis['total_energy'].sum()\n",
        "    total_tokens = cost_analysis['total_tokens'].sum()\n",
        "    \n",
        "    print(f\"\\nTotal: ${total_cost:.4f} cost, {total_energy:.6f} kWh, {total_tokens:,} tokens\")\n",
        "    \n",
        "    # Cost vs Performance visualization\n",
        "    fig, axes = plt.subplots(1, 2, figsize=(15, 6))\n",
        "    \n",
        "    # Cost vs Speed\n",
        "    sns.scatterplot(data=df, x='tokens_per_second', y='estimated_cost', hue='model', ax=axes[0])\n",
        "    axes[0].set_title('Cost vs Processing Speed')\n",
        "    axes[0].set_xlabel('Tokens per Second')\n",
        "    axes[0].set_ylabel('Estimated Cost (USD)')\n",
        "    axes[0].grid(True, alpha=0.3)\n",
        "    \n",
        "    # Energy vs Cost\n",
        "    sns.scatterplot(data=df, x='estimated_energy_kwh', y='estimated_cost', hue='model', ax=axes[1])\n",
        "    axes[1].set_title('Energy vs Cost')\n",
        "    axes[1].set_xlabel('Energy (kWh)')\n",
        "    axes[1].set_ylabel('Estimated Cost (USD)')\n",
        "    axes[1].grid(True, alpha=0.3)\n",
        "    \n",
        "    plt.tight_layout()\n",
        "    plt.show()\n",
        "else:\n",
        "    print(\"No data available.\")\n"
      ]
    },
    {
      "cell_type": "code",
      "execution_count": 52,
      "metadata": {},
      "outputs": [
        {
          "name": "stdout",
          "output_type": "stream",
          "text": [
            "Summary: 299 experiments, 47,877 tokens, 3.579370 kWh\n",
            "Fastest: llama, Most efficient: llama\n"
          ]
        }
      ],
      "source": [
        "# Final Summary\n",
        "if not df.empty:\n",
        "    print(f\"Summary: {len(df)} experiments, {df['total_tokens'].sum():,} tokens, {df['estimated_energy_kwh'].sum():.6f} kWh\")\n",
        "    print(f\"Fastest: {df.groupby('model')['tokens_per_second'].mean().idxmax()}, Most efficient: {df.groupby('model')['energy_per_token'].mean().idxmin()}\")\n",
        "else:\n",
        "    print(\"No data available.\")\n"
      ]
    }
  ],
  "metadata": {
    "kernelspec": {
      "display_name": "Python 3",
      "language": "python",
      "name": "python3"
    },
    "language_info": {
      "codemirror_mode": {
        "name": "ipython",
        "version": 3
      },
      "file_extension": ".py",
      "mimetype": "text/x-python",
      "name": "python",
      "nbconvert_exporter": "python",
      "pygments_lexer": "ipython3",
      "version": "3.13.2"
    }
  },
  "nbformat": 4,
  "nbformat_minor": 2
}
