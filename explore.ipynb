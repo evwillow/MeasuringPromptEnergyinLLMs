{
 "cells": [
  {
   "cell_type": "markdown",
   "metadata": {},
   "source": [
    "# Explore lmsys-chat-1m Dataset\n",
    "\n",
    "This notebook loads and explores the lmsys-chat-1m dataset.\n"
   ]
  },
  {
   "cell_type": "code",
   "execution_count": null,
   "metadata": {},
   "outputs": [],
   "source": [
    "import pandas as pd"
   ]
  },
  {
   "cell_type": "code",
   "execution_count": 4,
   "metadata": {},
   "outputs": [
    {
     "name": "stdout",
     "output_type": "stream",
     "text": [
      "Loaded 1,000,000 conversations\n"
     ]
    }
   ],
   "source": [
    "# Load the dataset\n",
    "conversations = pd.read_json(\"data/conversations.json\")\n",
    "print(f\"Loaded {len(conversations):,} conversations\")\n"
   ]
  },
  {
   "cell_type": "code",
   "execution_count": 5,
   "metadata": {},
   "outputs": [
    {
     "name": "stdout",
     "output_type": "stream",
     "text": [
      "Dataset shape: (1000000, 7)\n",
      "\n",
      "First few rows:\n",
      "                    conversation_id         model  \\\n",
      "0  33f01939a744455c869cb234afca47f1  wizardlm-13b   \n",
      "1  1e230e55efea4edab95db9cb87f6a9cb    vicuna-13b   \n",
      "2  0f623736051f4a48a506fd5933563cfd    vicuna-13b   \n",
      "3  e5c923a7fa3f4893beb432b4a06ef222        palm-2   \n",
      "4  8ad66650dced4b728de1d14bb04657c1    vicuna-13b   \n",
      "\n",
      "                                        conversation  turn language  \\\n",
      "0  [{'content': 'how can identity protection serv...     1  English   \n",
      "1  [{'content': 'Beside OFAC's selective sanction...     6  English   \n",
      "2  [{'content': 'You are the text completion mode...     1  English   \n",
      "3  [{'content': 'The sum of the perimeters of thr...     2  English   \n",
      "4  [{'content': 'What is the type of the variable...     1  English   \n",
      "\n",
      "                                   openai_moderation  redacted  \n",
      "0  [{'categories': {'harassment': False, 'harassm...     False  \n",
      "1  [{'categories': {'harassment': False, 'harassm...     False  \n",
      "2  [{'categories': {'harassment': False, 'harassm...     False  \n",
      "3  [{'categories': {'harassment': False, 'harassm...     False  \n",
      "4  [{'categories': {'harassment': False, 'harassm...     False  \n"
     ]
    }
   ],
   "source": [
    "# Show sample of the data\n",
    "print(f\"Dataset shape: {conversations.shape}\")\n",
    "print(f\"\\nFirst few rows:\")\n",
    "print(conversations.head())\n"
   ]
  },
  {
   "cell_type": "code",
   "execution_count": 6,
   "metadata": {},
   "outputs": [
    {
     "name": "stdout",
     "output_type": "stream",
     "text": [
      "Total conversations: 1,000,000\n",
      "\n",
      "Model distribution:\n",
      "model\n",
      "vicuna-13b    490712\n",
      "koala-13b      81586\n",
      "alpaca-13b     62469\n",
      "chatglm-6b     35660\n",
      "llama-13b      32339\n",
      "Name: count, dtype: int64\n",
      "\n",
      "Language distribution:\n",
      "language\n",
      "English       777453\n",
      "Portuguese     28616\n",
      "unknown        27922\n",
      "Russian        27596\n",
      "Chinese        24499\n",
      "Name: count, dtype: int64\n"
     ]
    }
   ],
   "source": [
    "# Basic statistics\n",
    "print(f\"Total conversations: {len(conversations):,}\")\n",
    "print(f\"\\nModel distribution:\")\n",
    "print(conversations['model'].value_counts().head())\n",
    "print(f\"\\nLanguage distribution:\")\n",
    "print(conversations['language'].value_counts().head())\n"
   ]
  }
 ],
 "metadata": {
  "kernelspec": {
   "display_name": "Python 3",
   "language": "python",
   "name": "python3"
  },
  "language_info": {
   "codemirror_mode": {
    "name": "ipython",
    "version": 3
   },
   "file_extension": ".py",
   "mimetype": "text/x-python",
   "name": "python",
   "nbconvert_exporter": "python",
   "pygments_lexer": "ipython3",
   "version": "3.13.2"
  }
 },
 "nbformat": 4,
 "nbformat_minor": 5
}
