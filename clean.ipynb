{
  "cells": [
    {
      "cell_type": "markdown",
      "metadata": {},
      "source": [
        "# Clean Conversations Data\n",
        "\n",
        "Extract English user messages from conversations and save as prompts for energy measurement.\n"
      ]
    },
    {
      "cell_type": "code",
      "execution_count": null,
      "metadata": {},
      "outputs": [],
      "source": [
        "import pandas as pd\n",
        "import json\n",
        "from pathlib import Path\n"
      ]
    },
    {
      "cell_type": "code",
      "execution_count": 8,
      "metadata": {},
      "outputs": [
        {
          "name": "stdout",
          "output_type": "stream",
          "text": [
            "Loaded 853062 conversations\n"
          ]
        }
      ],
      "source": [
        "data = pd.read_json('data/conversations.jsonl', lines=True)\n",
        "print(f\"Loaded {len(data)} conversations\")\n"
      ]
    },
    {
      "cell_type": "code",
      "execution_count": 9,
      "metadata": {},
      "outputs": [
        {
          "name": "stdout",
          "output_type": "stream",
          "text": [
            "Found 663049 English conversations\n",
            "Extracted 100 user prompts\n"
          ]
        }
      ],
      "source": [
        "english_data = data[data['language'].str.lower() == 'english']\n",
        "print(f\"Found {len(english_data)} English conversations\")\n",
        "\n",
        "def extract_user_prompts(conversations, max_prompts=100):\n",
        "    prompts = []\n",
        "    for _, row in conversations.iterrows():\n",
        "        conversation = row['conversation']\n",
        "        if not conversation:\n",
        "            continue\n",
        "            \n",
        "        for message in conversation:\n",
        "            if (message.get('role') == 'user' and \n",
        "                'content' in message and \n",
        "                message['content'].strip()):\n",
        "                prompts.append({\n",
        "                    'prompt_text': message['content'].strip(),\n",
        "                    'processed': 0\n",
        "                })\n",
        "                \n",
        "                if len(prompts) >= max_prompts:\n",
        "                    return prompts\n",
        "    return prompts\n",
        "\n",
        "prompts = extract_user_prompts(english_data)\n",
        "prompts_df = pd.DataFrame(prompts)\n",
        "print(f\"Extracted {len(prompts_df)} user prompts\")\n"
      ]
    },
    {
      "cell_type": "code",
      "execution_count": 10,
      "metadata": {},
      "outputs": [
        {
          "name": "stdout",
          "output_type": "stream",
          "text": [
            "Saved 100 prompts to data\\prompts.jsonl\n"
          ]
        }
      ],
      "source": [
        "output_path = Path('data/prompts.jsonl')\n",
        "prompts_df.to_json(output_path, orient='records', lines=True)\n",
        "print(f\"Saved {len(prompts_df)} prompts to {output_path}\")\n"
      ]
    }
  ],
  "metadata": {
    "kernelspec": {
      "display_name": "Python 3",
      "language": "python",
      "name": "python3"
    },
    "language_info": {
      "codemirror_mode": {
        "name": "ipython",
        "version": 3
      },
      "file_extension": ".py",
      "mimetype": "text/x-python",
      "name": "python",
      "nbconvert_exporter": "python",
      "pygments_lexer": "ipython3",
      "version": "3.13.2"
    }
  },
  "nbformat": 4,
  "nbformat_minor": 2
}
