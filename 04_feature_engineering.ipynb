{
  "cells": [
    {
      "cell_type": "markdown",
      "metadata": {},
      "source": [
        "# Feature Engineering\n"
      ]
    },
    {
      "cell_type": "code",
      "execution_count": null,
      "metadata": {},
      "outputs": [],
      "source": [
        "# Imports\n",
        "import pandas as pd\n",
        "import textstat\n",
        "import spacy\n",
        "import nltk\n",
        "from nltk.sentiment import SentimentIntensityAnalyzer\n",
        "from wordfreq import word_frequency\n"
      ]
    },
    {
      "cell_type": "code",
      "execution_count": null,
      "metadata": {},
      "outputs": [],
      "source": [
        "# Load data from energy_measurements.jsonl\n",
        "data = pd.read_json('data/energy_measurements.jsonl', lines=True)\n"
      ]
    },
    {
      "cell_type": "code",
      "execution_count": null,
      "metadata": {},
      "outputs": [],
      "source": [
        "# add syntactic_tree_depth to data\n",
        "nlp = spacy.load(\"en_core_web_sm\")\n",
        "\n",
        "def get_syntactic_tree_depth(text):\n",
        "    doc = nlp(text)\n",
        "    return max([len(list(token.ancestors)) for token in doc], default=0)\n",
        "\n",
        "data[\"syntactic_tree_depth\"] = [get_syntactic_tree_depth(text) for text in data[\"prompt\"]]\n"
      ]
    },
    {
      "cell_type": "code",
      "execution_count": null,
      "metadata": {},
      "outputs": [],
      "source": [
        "# add clause_count to data\n",
        "clause_words = [\n",
        "    \"and\", \"but\", \"because\", \"that\", \"which\", \"who\", \"although\", \"if\", \"when\", \"while\", \"though\",\n",
        "    \"or\", \"so\", \"yet\", \"nor\", \"for\", \"since\", \"until\", \"unless\", \"whereas\", \"wherever\", \"wherever\",\n",
        "    \"however\", \"therefore\", \"moreover\", \"furthermore\", \"nevertheless\", \"meanwhile\", \"consequently\",\n",
        "    \"whereas\", \"provided\", \"supposing\", \"in case\", \"as long as\", \"as soon as\", \"as if\", \"as though\",\n",
        "    \"even though\", \"even if\", \"so that\", \"in order that\", \"such that\", \"now that\", \"once\", \"before\",\n",
        "    \"after\", \"during\", \"throughout\", \"despite\", \"in spite of\", \"regardless of\", \"due to\", \"owing to\",\n",
        "    \"thanks to\", \"as a result\", \"consequently\", \"thus\", \"hence\", \"accordingly\", \"similarly\", \"likewise\",\n",
        "    \"on the other hand\", \"in contrast\", \"by contrast\", \"alternatively\", \"instead\", \"rather\", \"instead of\",\n",
        "    \"as well as\", \"along with\", \"together with\", \"in addition to\", \"besides\", \"apart from\", \"except\",\n",
        "    \"except for\", \"other than\", \"instead of\", \"rather than\", \"as opposed to\", \"in comparison to\",\n",
        "    \"compared to\", \"compared with\", \"unlike\", \"like\", \"such as\", \"for example\", \"for instance\",\n",
        "    \"namely\", \"that is\", \"i.e.\", \"e.g.\", \"in other words\", \"to put it differently\", \"to clarify\"\n",
        "]\n",
        "\n",
        "data[\"clause_count\"] = data[\"prompt\"].str.lower().apply(\n",
        "    lambda x: sum(x.count(word) for word in clause_words)\n",
        ")\n"
      ]
    },
    {
      "cell_type": "code",
      "execution_count": null,
      "metadata": {},
      "outputs": [],
      "source": [
        "# add flesch_kincaid_grade to data\n",
        "data[\"flesch_kincaid_grade\"] = data[\"prompt\"].apply(textstat.flesch_kincaid_grade)\n"
      ]
    },
    {
      "cell_type": "code",
      "execution_count": null,
      "metadata": {},
      "outputs": [],
      "source": [
        "# add gunning_fog_index to data\n",
        "data[\"gunning_fog_index\"] = data[\"prompt\"].apply(textstat.gunning_fog)\n"
      ]
    },
    {
      "cell_type": "code",
      "execution_count": null,
      "metadata": {},
      "outputs": [],
      "source": [
        "# add smog_index to data\n",
        "data[\"smog_index\"] = data[\"prompt\"].apply(textstat.smog_index)\n"
      ]
    },
    {
      "cell_type": "code",
      "execution_count": null,
      "metadata": {},
      "outputs": [],
      "source": [
        "# add avg_word_frequency to data\n",
        "data[\"avg_word_frequency\"] = data[\"prompt\"].apply(\n",
        "    lambda x: sum(word_frequency(w.lower(), \"en\") for w in x.split()) / len(x.split()) if x.split() else 0\n",
        ")\n"
      ]
    },
    {
      "cell_type": "code",
      "execution_count": null,
      "metadata": {},
      "outputs": [],
      "source": [
        "# add lexical_diversity to data\n",
        "data[\"lexical_diversity\"] = data[\"prompt\"].apply(\n",
        "    lambda x: len(set(x.split())) / (len(x.split()) ** 0.5) if x.split() else 0\n",
        ")\n"
      ]
    },
    {
      "cell_type": "code",
      "execution_count": null,
      "metadata": {},
      "outputs": [],
      "source": [
        "# add type_token_ratio to data\n",
        "data[\"type_token_ratio\"] = (\n",
        "    data[\"prompt\"].str.split().apply(lambda words: len(set(words)) / len(words) if words else 0)\n",
        ")\n"
      ]
    },
    {
      "cell_type": "code",
      "execution_count": null,
      "metadata": {},
      "outputs": [],
      "source": [
        "# add vocabulary_richness to data\n",
        "data[\"vocabulary_richness\"] = data[\"prompt\"].apply(\n",
        "    lambda x: len(set(x.split())) / (len(x.split()) + 1e-6)\n",
        ")\n"
      ]
    },
    {
      "cell_type": "code",
      "execution_count": null,
      "metadata": {},
      "outputs": [],
      "source": [
        "# add named_entity_density to data\n",
        "data[\"named_entity_density\"] = [\n",
        "    len(doc.ents) / len(doc) if len(doc) else 0\n",
        "    for doc in nlp.pipe(data[\"prompt\"], disable=[\"tagger\", \"parser\"])\n",
        "]\n"
      ]
    },
    {
      "cell_type": "code",
      "execution_count": null,
      "metadata": {},
      "outputs": [],
      "source": [
        "# add tech_ai_density to data\n",
        "tech_ai_keywords = [\n",
        "    \"technology\", \"artificial\", \"intelligence\", \"machine\", \"learning\", \"algorithm\", \"data\", \"computer\", \n",
        "    \"software\", \"programming\", \"code\", \"digital\", \"online\", \"internet\", \"app\", \"system\", \"platform\", \n",
        "    \"database\", \"cloud\", \"cyber\", \"ai\", \"ml\", \"neural\", \"network\", \"deep\", \"model\", \"training\", \n",
        "    \"prediction\", \"automation\", \"robotic\", \"bot\", \"api\", \"framework\", \"library\", \"package\", \"module\",\n",
        "    \"function\", \"variable\", \"loop\", \"condition\", \"logic\", \"syntax\", \"debug\", \"compile\", \"execute\",\n",
        "    \"server\", \"client\", \"frontend\", \"backend\", \"fullstack\", \"devops\", \"deployment\", \"infrastructure\",\n",
        "    \"security\", \"encryption\", \"authentication\", \"authorization\", \"privacy\", \"blockchain\", \"crypto\",\n",
        "    \"bitcoin\", \"ethereum\", \"smart\", \"contract\", \"defi\", \"nft\", \"metaverse\", \"vr\", \"ar\", \"iot\",\n",
        "    \"sensor\", \"device\", \"hardware\", \"cpu\", \"gpu\", \"memory\", \"storage\", \"bandwidth\", \"latency\"\n",
        "]\n",
        "\n",
        "data[\"tech_ai_density\"] = data[\"prompt\"].str.lower().apply(\n",
        "    lambda x: sum(1 for keyword in tech_ai_keywords if keyword in x) / len(x.split()) if x.split() else 0\n",
        ")\n"
      ]
    },
    {
      "cell_type": "code",
      "execution_count": null,
      "metadata": {},
      "outputs": [],
      "source": [
        "# add business_finance_density to data\n",
        "business_finance_keywords = [\n",
        "    \"business\", \"company\", \"finance\", \"money\", \"investment\", \"market\", \"economy\", \"profit\", \"revenue\", \n",
        "    \"budget\", \"cost\", \"price\", \"value\", \"stock\", \"trading\", \"banking\", \"credit\", \"loan\", \"payment\", \n",
        "    \"transaction\", \"capital\", \"funding\", \"venture\", \"startup\", \"enterprise\", \"corporation\", \"firm\",\n",
        "    \"industry\", \"sector\", \"marketplace\", \"competition\", \"competitive\", \"strategy\", \"planning\", \"growth\",\n",
        "    \"expansion\", \"acquisition\", \"merger\", \"partnership\", \"collaboration\", \"contract\", \"agreement\",\n",
        "    \"negotiation\", \"deal\", \"offer\", \"proposal\", \"bid\", \"tender\", \"quotation\", \"invoice\", \"receipt\",\n",
        "    \"accounting\", \"bookkeeping\", \"audit\", \"tax\", \"taxation\", \"deduction\", \"exemption\", \"refund\",\n",
        "    \"financial\", \"monetary\", \"fiscal\", \"economic\", \"commercial\", \"retail\", \"wholesale\", \"distribution\",\n",
        "    \"supply\", \"demand\", \"consumption\", \"production\", \"manufacturing\", \"operations\", \"logistics\",\n",
        "    \"management\", \"leadership\", \"administration\", \"governance\", \"compliance\", \"regulation\", \"policy\",\n",
        "    \"risk\", \"insurance\", \"coverage\", \"premium\", \"claim\", \"settlement\", \"liability\", \"asset\", \"equity\",\n",
        "    \"debt\", \"bond\", \"security\", \"portfolio\", \"diversification\", \"return\", \"yield\", \"dividend\", \"interest\"\n",
        "]\n",
        "\n",
        "data[\"business_finance_density\"] = data[\"prompt\"].str.lower().apply(\n",
        "    lambda x: sum(1 for keyword in business_finance_keywords if keyword in x) / len(x.split()) if x.split() else 0\n",
        ")\n"
      ]
    },
    {
      "cell_type": "code",
      "execution_count": null,
      "metadata": {},
      "outputs": [],
      "source": [
        "# add health_medical_density to data\n",
        "health_medical_keywords = [\n",
        "    \"health\", \"medical\", \"doctor\", \"patient\", \"treatment\", \"medicine\", \"drug\", \"therapy\", \"surgery\", \n",
        "    \"hospital\", \"clinic\", \"diagnosis\", \"symptom\", \"disease\", \"illness\", \"wellness\", \"fitness\", \n",
        "    \"exercise\", \"nutrition\", \"diet\", \"healthcare\", \"physician\", \"nurse\", \"specialist\", \"surgeon\",\n",
        "    \"dentist\", \"psychiatrist\", \"psychologist\", \"therapist\", \"counselor\", \"practitioner\", \"provider\",\n",
        "    \"pharmacy\", \"pharmacist\", \"prescription\", \"medication\", \"dosage\", \"side\", \"effect\", \"allergy\",\n",
        "    \"infection\", \"virus\", \"bacteria\", \"pathogen\", \"immune\", \"immunity\", \"vaccine\", \"vaccination\",\n",
        "    \"prevention\", \"cure\", \"recovery\", \"rehabilitation\", \"physical\", \"mental\", \"emotional\", \"psychological\",\n",
        "    \"chronic\", \"acute\", \"severe\", \"mild\", \"moderate\", \"condition\", \"disorder\", \"syndrome\", \"disability\",\n",
        "    \"injury\", \"wound\", \"fracture\", \"sprain\", \"strain\", \"pain\", \"ache\", \"sore\", \"tender\", \"swollen\",\n",
        "    \"inflammation\", \"fever\", \"temperature\", \"blood\", \"pressure\", \"heart\", \"rate\", \"pulse\", \"breathing\",\n",
        "    \"respiration\", \"oxygen\", \"circulation\", \"cardiovascular\", \"respiratory\", \"digestive\", \"nervous\",\n",
        "    \"endocrine\", \"immune\", \"system\", \"organ\", \"tissue\", \"cell\", \"gene\", \"genetic\", \"hereditary\",\n",
        "    \"congenital\", \"developmental\", \"aging\", \"elderly\", \"pediatric\", \"maternal\", \"prenatal\", \"postnatal\"\n",
        "]\n",
        "\n",
        "data[\"health_medical_density\"] = data[\"prompt\"].str.lower().apply(\n",
        "    lambda x: sum(1 for keyword in health_medical_keywords if keyword in x) / len(x.split()) if x.split() else 0\n",
        ")\n"
      ]
    },
    {
      "cell_type": "code",
      "execution_count": null,
      "metadata": {},
      "outputs": [],
      "source": [
        "# add education_learning_density to data\n",
        "education_learning_keywords = [\n",
        "    \"education\", \"school\", \"university\", \"college\", \"student\", \"teacher\", \"learning\", \"study\", \"course\", \n",
        "    \"degree\", \"knowledge\", \"skill\", \"training\", \"research\", \"academic\", \"scholar\", \"expert\", \"professional\", \n",
        "    \"career\", \"job\", \"classroom\", \"lecture\", \"seminar\", \"workshop\", \"tutorial\", \"lesson\", \"curriculum\",\n",
        "    \"syllabus\", \"textbook\", \"assignment\", \"homework\", \"project\", \"thesis\", \"dissertation\", \"paper\",\n",
        "    \"essay\", \"report\", \"presentation\", \"exam\", \"test\", \"quiz\", \"grade\", \"score\", \"mark\", \"evaluation\",\n",
        "    \"assessment\", \"feedback\", \"instructor\", \"professor\", \"lecturer\", \"tutor\", \"mentor\", \"advisor\",\n",
        "    \"counselor\", \"guidance\", \"coaching\", \"instruction\", \"teaching\", \"pedagogy\", \"methodology\", \"approach\",\n",
        "    \"technique\", \"strategy\", \"practice\", \"exercise\", \"drill\", \"repetition\", \"memorization\", \"comprehension\",\n",
        "    \"understanding\", \"analysis\", \"synthesis\", \"evaluation\", \"critical\", \"thinking\", \"problem\", \"solving\",\n",
        "    \"creativity\", \"innovation\", \"discovery\", \"exploration\", \"investigation\", \"inquiry\", \"question\",\n",
        "    \"answer\", \"solution\", \"explanation\", \"clarification\", \"demonstration\", \"example\", \"illustration\",\n",
        "    \"concept\", \"theory\", \"principle\", \"law\", \"rule\", \"formula\", \"equation\", \"calculation\", \"computation\",\n",
        "    \"literacy\", \"numeracy\", \"communication\", \"language\", \"vocabulary\", \"grammar\", \"syntax\", \"pronunciation\",\n",
        "    \"reading\", \"writing\", \"speaking\", \"listening\", \"comprehension\", \"fluency\", \"proficiency\", \"mastery\"\n",
        "]\n",
        "\n",
        "data[\"education_learning_density\"] = data[\"prompt\"].str.lower().apply(\n",
        "    lambda x: sum(1 for keyword in education_learning_keywords if keyword in x) / len(x.split()) if x.split() else 0\n",
        ")\n"
      ]
    },
    {
      "cell_type": "code",
      "execution_count": null,
      "metadata": {},
      "outputs": [],
      "source": [
        "# add science_research_density to data\n",
        "science_research_keywords = [\n",
        "    \"science\", \"research\", \"study\", \"experiment\", \"theory\", \"hypothesis\", \"analysis\", \"discovery\", \n",
        "    \"innovation\", \"development\", \"testing\", \"results\", \"findings\", \"evidence\", \"proof\", \"method\", \n",
        "    \"process\", \"technique\", \"approach\", \"scientific\", \"empirical\", \"observational\", \"experimental\",\n",
        "    \"laboratory\", \"lab\", \"laboratory\", \"facility\", \"equipment\", \"instrument\", \"measurement\", \"data\",\n",
        "    \"statistics\", \"statistical\", \"probability\", \"correlation\", \"causation\", \"variable\", \"control\", \"group\",\n",
        "    \"sample\", \"population\", \"survey\", \"questionnaire\", \"interview\", \"observation\", \"documentation\",\n",
        "    \"publication\", \"journal\", \"article\", \"paper\", \"conference\", \"presentation\", \"poster\", \"abstract\",\n",
        "    \"citation\", \"reference\", \"bibliography\", \"literature\", \"review\", \"meta\", \"analysis\", \"systematic\",\n",
        "    \"quantitative\", \"qualitative\", \"mixed\", \"methods\", \"design\", \"protocol\", \"procedure\", \"guideline\",\n",
        "    \"standard\", \"criteria\", \"validity\", \"reliability\", \"accuracy\", \"precision\", \"error\", \"bias\", \"confound\",\n",
        "    \"physics\", \"chemistry\", \"biology\", \"mathematics\", \"statistics\", \"engineering\", \"technology\", \"medicine\",\n",
        "    \"psychology\", \"sociology\", \"anthropology\", \"geography\", \"geology\", \"astronomy\", \"environmental\",\n",
        "    \"climate\", \"ecology\", \"evolution\", \"genetics\", \"molecular\", \"cellular\", \"organism\", \"species\",\n",
        "    \"biodiversity\", \"conservation\", \"sustainability\", \"renewable\", \"energy\", \"pollution\", \"emission\"\n",
        "]\n",
        "\n",
        "data[\"science_research_density\"] = data[\"prompt\"].str.lower().apply(\n",
        "    lambda x: sum(1 for keyword in science_research_keywords if keyword in x) / len(x.split()) if x.split() else 0\n",
        ")\n"
      ]
    },
    {
      "cell_type": "code",
      "execution_count": null,
      "metadata": {},
      "outputs": [],
      "source": [
        "# add social_relationships_density to data\n",
        "social_relationships_keywords = [\n",
        "    \"relationship\", \"family\", \"friend\", \"social\", \"community\", \"group\", \"team\", \"partner\", \"marriage\", \n",
        "    \"dating\", \"communication\", \"interaction\", \"connection\", \"support\", \"help\", \"advice\", \"guidance\", \n",
        "    \"mentor\", \"coach\", \"parent\", \"child\", \"sibling\", \"spouse\", \"couple\", \"romance\", \"love\", \"affection\",\n",
        "    \"intimacy\", \"trust\", \"loyalty\", \"commitment\", \"bond\", \"attachment\", \"closeness\", \"proximity\",\n",
        "    \"socialization\", \"networking\", \"collaboration\", \"cooperation\", \"teamwork\", \"partnership\", \"alliance\",\n",
        "    \"friendship\", \"companionship\", \"fellowship\", \"camaraderie\", \"solidarity\", \"unity\", \"harmony\",\n",
        "    \"conflict\", \"disagreement\", \"argument\", \"dispute\", \"tension\", \"stress\", \"pressure\", \"anxiety\",\n",
        "    \"isolation\", \"loneliness\", \"separation\", \"divorce\", \"breakup\", \"rejection\", \"abandonment\", \"loss\",\n",
        "    \"grief\", \"mourning\", \"bereavement\", \"sadness\", \"depression\", \"anxiety\", \"worry\", \"fear\", \"anger\",\n",
        "    \"jealousy\", \"envy\", \"resentment\", \"bitterness\", \"forgiveness\", \"reconciliation\", \"healing\", \"recovery\",\n",
        "    \"therapy\", \"counseling\", \"support\", \"group\", \"therapy\", \"peer\", \"support\", \"mentoring\", \"coaching\",\n",
        "    \"leadership\", \"followership\", \"influence\", \"persuasion\", \"negotiation\", \"mediation\", \"arbitration\",\n",
        "    \"culture\", \"tradition\", \"custom\", \"ritual\", \"ceremony\", \"celebration\", \"festival\", \"holiday\",\n",
        "    \"community\", \"neighborhood\", \"society\", \"civilization\", \"population\", \"demographics\", \"diversity\",\n",
        "    \"inclusion\", \"exclusion\", \"discrimination\", \"prejudice\", \"bias\", \"stereotype\", \"stigma\", \"label\"\n",
        "]\n",
        "\n",
        "data[\"social_relationships_density\"] = data[\"prompt\"].str.lower().apply(\n",
        "    lambda x: sum(1 for keyword in social_relationships_keywords if keyword in x) / len(x.split()) if x.split() else 0\n",
        ")\n"
      ]
    },
    {
      "cell_type": "code",
      "execution_count": null,
      "metadata": {},
      "outputs": [],
      "source": [
        "# add entertainment_culture_density to data\n",
        "entertainment_culture_keywords = [\n",
        "    \"entertainment\", \"music\", \"movie\", \"film\", \"book\", \"game\", \"sport\", \"art\", \"culture\", \"fun\", \n",
        "    \"enjoyment\", \"hobby\", \"interest\", \"passion\", \"creativity\", \"imagination\", \"story\", \"narrative\", \n",
        "    \"character\", \"plot\", \"theater\", \"drama\", \"comedy\", \"tragedy\", \"romance\", \"action\", \"adventure\",\n",
        "    \"thriller\", \"horror\", \"mystery\", \"fantasy\", \"science\", \"fiction\", \"documentary\", \"reality\", \"show\",\n",
        "    \"television\", \"tv\", \"streaming\", \"netflix\", \"youtube\", \"podcast\", \"radio\", \"broadcast\", \"media\",\n",
        "    \"news\", \"journalism\", \"blog\", \"vlog\", \"social\", \"media\", \"facebook\", \"twitter\", \"instagram\", \"tiktok\",\n",
        "    \"dance\", \"ballet\", \"opera\", \"concert\", \"performance\", \"show\", \"exhibition\", \"gallery\", \"museum\",\n",
        "    \"library\", \"bookstore\", \"magazine\", \"newspaper\", \"publication\", \"author\", \"writer\", \"poet\", \"novelist\",\n",
        "    \"artist\", \"painter\", \"sculptor\", \"photographer\", \"designer\", \"architect\", \"musician\", \"singer\",\n",
        "    \"composer\", \"conductor\", \"actor\", \"actress\", \"director\", \"producer\", \"screenwriter\", \"playwright\",\n",
        "    \"athlete\", \"player\", \"team\", \"coach\", \"training\", \"practice\", \"competition\", \"tournament\", \"championship\",\n",
        "    \"league\", \"season\", \"match\", \"game\", \"score\", \"victory\", \"defeat\", \"win\", \"lose\", \"tie\", \"draw\",\n",
        "    \"fitness\", \"exercise\", \"workout\", \"gym\", \"yoga\", \"pilates\", \"running\", \"cycling\", \"swimming\",\n",
        "    \"hiking\", \"climbing\", \"skiing\", \"snowboarding\", \"surfing\", \"diving\", \"sailing\", \"fishing\", \"hunting\",\n",
        "    \"cooking\", \"baking\", \"recipe\", \"restaurant\", \"cuisine\", \"food\", \"drink\", \"wine\", \"beer\", \"cocktail\",\n",
        "    \"travel\", \"vacation\", \"holiday\", \"trip\", \"journey\", \"adventure\", \"exploration\", \"discovery\", \"sightseeing\"\n",
        "]\n",
        "\n",
        "data[\"entertainment_culture_density\"] = data[\"prompt\"].str.lower().apply(\n",
        "    lambda x: sum(1 for keyword in entertainment_culture_keywords if keyword in x) / len(x.split()) if x.split() else 0\n",
        ")\n"
      ]
    },
    {
      "cell_type": "code",
      "execution_count": null,
      "metadata": {},
      "outputs": [],
      "source": [
        "# add travel_lifestyle_density to data\n",
        "travel_lifestyle_keywords = [\n",
        "    \"travel\", \"trip\", \"vacation\", \"holiday\", \"destination\", \"place\", \"country\", \"city\", \"hotel\", \n",
        "    \"restaurant\", \"food\", \"cooking\", \"recipe\", \"lifestyle\", \"routine\", \"habit\", \"experience\", \n",
        "    \"adventure\", \"exploration\", \"journey\", \"voyage\", \"expedition\", \"tour\", \"sightseeing\", \"landmark\",\n",
        "    \"monument\", \"museum\", \"gallery\", \"park\", \"beach\", \"mountain\", \"forest\", \"desert\", \"ocean\", \"lake\",\n",
        "    \"river\", \"island\", \"peninsula\", \"coast\", \"shore\", \"valley\", \"canyon\", \"cave\", \"volcano\", \"glacier\",\n",
        "    \"airport\", \"airline\", \"flight\", \"plane\", \"aircraft\", \"pilot\", \"passenger\", \"ticket\", \"boarding\",\n",
        "    \"passport\", \"visa\", \"customs\", \"immigration\", \"border\", \"checkpoint\", \"security\", \"luggage\", \"baggage\",\n",
        "    \"hotel\", \"accommodation\", \"resort\", \"hostel\", \"bed\", \"breakfast\", \"suite\", \"room\", \"check\", \"in\",\n",
        "    \"checkout\", \"reception\", \"concierge\", \"service\", \"amenity\", \"facility\", \"pool\", \"spa\", \"gym\",\n",
        "    \"restaurant\", \"dining\", \"cuisine\", \"menu\", \"chef\", \"waiter\", \"waitress\", \"tip\", \"bill\", \"payment\",\n",
        "    \"shopping\", \"store\", \"mall\", \"market\", \"boutique\", \"souvenir\", \"gift\", \"purchase\", \"buy\", \"sell\",\n",
        "    \"currency\", \"money\", \"cash\", \"credit\", \"card\", \"atm\", \"exchange\", \"rate\", \"price\", \"cost\", \"budget\",\n",
        "    \"transportation\", \"bus\", \"train\", \"subway\", \"metro\", \"taxi\", \"uber\", \"lyft\", \"car\", \"rental\", \"drive\",\n",
        "    \"walking\", \"hiking\", \"cycling\", \"scooter\", \"motorcycle\", \"boat\", \"cruise\", \"ferry\", \"subway\", \"tram\",\n",
        "    \"lifestyle\", \"daily\", \"routine\", \"schedule\", \"appointment\", \"meeting\", \"work\", \"office\", \"home\",\n",
        "    \"family\", \"personal\", \"private\", \"leisure\", \"recreation\", \"relaxation\", \"stress\", \"relief\", \"wellness\",\n",
        "    \"health\", \"fitness\", \"exercise\", \"diet\", \"nutrition\", \"sleep\", \"rest\", \"recovery\", \"energy\", \"vitality\"\n",
        "]\n",
        "\n",
        "data[\"travel_lifestyle_density\"] = data[\"prompt\"].str.lower().apply(\n",
        "    lambda x: sum(1 for keyword in travel_lifestyle_keywords if keyword in x) / len(x.split()) if x.split() else 0\n",
        ")\n"
      ]
    },
    {
      "cell_type": "code",
      "execution_count": null,
      "metadata": {},
      "outputs": [],
      "source": [
        "# add sentiment_polarity to data\n",
        "nltk.download('vader_lexicon')\n",
        "sia = SentimentIntensityAnalyzer()\n",
        "data[\"sentiment_polarity\"] = data[\"prompt\"].apply(lambda x: sia.polarity_scores(x)[\"compound\"])\n"
      ]
    },
    {
      "cell_type": "code",
      "execution_count": null,
      "metadata": {},
      "outputs": [],
      "source": [
        "# add sentiment_intensity to data\n",
        "data[\"sentiment_intensity\"] = data[\"prompt\"].apply(\n",
        "    lambda x: abs(sia.polarity_scores(x)[\"pos\"] - sia.polarity_scores(x)[\"neg\"])\n",
        ")\n"
      ]
    },
    {
      "cell_type": "code",
      "execution_count": null,
      "metadata": {},
      "outputs": [],
      "source": [
        "# add information_density to data\n",
        "def get_information_density(text):\n",
        "    doc = nlp(text)\n",
        "    if len(doc) == 0:\n",
        "        return 0\n",
        "    content_words = [t for t in doc if t.pos_ in [\"NOUN\", \"VERB\", \"ADJ\", \"ADV\"]]\n",
        "    return len(content_words) / len(doc)\n",
        "\n",
        "data[\"information_density\"] = [get_information_density(text) for text in data[\"prompt\"]]\n"
      ]
    },
    {
      "cell_type": "code",
      "execution_count": null,
      "metadata": {},
      "outputs": [],
      "source": [
        "# add avg_sentence_length_prompt to data\n",
        "data[\"avg_sentence_length_prompt\"] = (\n",
        "    data[\"prompt\"]\n",
        "    .str.split(r\"[.!?]\")\n",
        "    .apply(lambda sents: sum(len(sent.split()) for sent in sents if sent.strip()) / len([sent for sent in sents if sent.strip()]) if any(sent.strip() for sent in sents) else 0)\n",
        ")\n"
      ]
    },
    {
      "cell_type": "code",
      "execution_count": null,
      "metadata": {},
      "outputs": [],
      "source": [
        "# add abstract_thinking_density to data\n",
        "abstract_thinking_keywords = [\n",
        "    \"concept\", \"idea\", \"thought\", \"thinking\", \"reasoning\", \"logic\", \"rational\", \"analysis\", \"evaluation\", \n",
        "    \"judgment\", \"opinion\", \"perspective\", \"viewpoint\", \"understanding\", \"comprehension\", \"interpretation\", \n",
        "    \"meaning\", \"significance\", \"importance\", \"value\", \"abstract\", \"theoretical\", \"philosophical\", \"metaphysical\",\n",
        "    \"existential\", \"ontological\", \"epistemological\", \"phenomenological\", \"hermeneutical\", \"dialectical\",\n",
        "    \"synthesis\", \"integration\", \"coordination\", \"harmony\", \"unity\", \"coherence\", \"consistency\", \"clarity\",\n",
        "    \"precision\", \"accuracy\", \"validity\", \"truth\", \"reality\", \"existence\", \"being\", \"essence\", \"nature\",\n",
        "    \"substance\", \"form\", \"matter\", \"spirit\", \"soul\", \"mind\", \"consciousness\", \"awareness\", \"perception\",\n",
        "    \"cognition\", \"intelligence\", \"wisdom\", \"knowledge\", \"insight\", \"intuition\", \"imagination\", \"creativity\",\n",
        "    \"innovation\", \"originality\", \"uniqueness\", \"distinctiveness\", \"individuality\", \"personality\", \"identity\",\n",
        "    \"self\", \"ego\", \"subconscious\", \"unconscious\", \"collective\", \"universal\", \"transcendent\", \"immanent\",\n",
        "    \"absolute\", \"relative\", \"objective\", \"subjective\", \"empirical\", \"rational\", \"intuitive\", \"mystical\",\n",
        "    \"spiritual\", \"religious\", \"sacred\", \"divine\", \"eternal\", \"infinite\", \"timeless\", \"immortal\", \"permanent\",\n",
        "    \"temporary\", \"transient\", \"ephemeral\", \"fleeting\", \"momentary\", \"instant\", \"duration\", \"continuity\"\n",
        "]\n",
        "\n",
        "data[\"abstract_thinking_density\"] = data[\"prompt\"].str.lower().apply(\n",
        "    lambda x: sum(1 for keyword in abstract_thinking_keywords if keyword in x) / len(x.split()) if x.split() else 0\n",
        ")\n"
      ]
    },
    {
      "cell_type": "code",
      "execution_count": null,
      "metadata": {},
      "outputs": [],
      "source": [
        "# add problem_solving_density to data\n",
        "problem_solving_keywords = [\n",
        "    \"problem\", \"solution\", \"challenge\", \"difficulty\", \"issue\", \"trouble\", \"obstacle\", \"barrier\", \"strategy\", \n",
        "    \"approach\", \"method\", \"technique\", \"process\", \"procedure\", \"step\", \"plan\", \"goal\", \"objective\", \"target\", \n",
        "    \"aim\", \"resolve\", \"fix\", \"repair\", \"correct\", \"improve\", \"enhance\", \"optimize\", \"maximize\", \"minimize\",\n",
        "    \"efficiency\", \"effectiveness\", \"productivity\", \"performance\", \"outcome\", \"result\", \"consequence\", \"impact\",\n",
        "    \"troubleshoot\", \"debug\", \"diagnose\", \"identify\", \"locate\", \"find\", \"discover\", \"detect\", \"recognize\",\n",
        "    \"analyze\", \"examine\", \"investigate\", \"research\", \"study\", \"explore\", \"test\", \"experiment\", \"trial\",\n",
        "    \"error\", \"mistake\", \"failure\", \"success\", \"achievement\", \"accomplishment\", \"victory\", \"win\", \"overcome\",\n",
        "    \"defeat\", \"conquer\", \"master\", \"control\", \"manage\", \"handle\", \"deal\", \"cope\", \"adapt\", \"adjust\",\n",
        "    \"modify\", \"change\", \"alter\", \"transform\", \"convert\", \"translate\", \"interpret\", \"explain\", \"clarify\",\n",
        "    \"simplify\", \"complex\", \"complicated\", \"intricate\", \"sophisticated\", \"advanced\", \"basic\", \"fundamental\",\n",
        "    \"essential\", \"critical\", \"important\", \"significant\", \"relevant\", \"applicable\", \"practical\", \"useful\",\n",
        "    \"effective\", \"successful\", \"working\", \"functional\", \"operational\", \"systematic\", \"organized\", \"structured\",\n",
        "    \"logical\", \"rational\", \"reasonable\", \"sensible\", \"sound\", \"valid\", \"reliable\", \"consistent\", \"stable\",\n",
        "    \"robust\", \"flexible\", \"adaptable\", \"versatile\", \"comprehensive\", \"complete\", \"thorough\", \"detailed\"\n",
        "]\n",
        "\n",
        "data[\"problem_solving_density\"] = data[\"prompt\"].str.lower().apply(\n",
        "    lambda x: sum(1 for keyword in problem_solving_keywords if keyword in x) / len(x.split()) if x.split() else 0\n",
        ")\n"
      ]
    },
    {
      "cell_type": "code",
      "execution_count": null,
      "metadata": {},
      "outputs": [],
      "source": [
        "# add communication_density to data\n",
        "communication_keywords = [\n",
        "    \"communication\", \"discussion\", \"conversation\", \"dialogue\", \"debate\", \"argument\", \"explanation\", \"description\", \n",
        "    \"clarification\", \"understanding\", \"misunderstanding\", \"confusion\", \"agreement\", \"disagreement\", \"consensus\", \n",
        "    \"compromise\", \"negotiation\", \"persuasion\", \"influence\", \"convince\", \"speak\", \"talk\", \"say\", \"tell\", \"express\",\n",
        "    \"convey\", \"transmit\", \"share\", \"exchange\", \"interact\", \"connect\", \"relate\", \"associate\", \"link\", \"bond\",\n",
        "    \"message\", \"information\", \"data\", \"content\", \"meaning\", \"significance\", \"importance\", \"relevance\", \"context\",\n",
        "    \"background\", \"history\", \"story\", \"narrative\", \"account\", \"report\", \"summary\", \"overview\", \"introduction\",\n",
        "    \"conclusion\", \"ending\", \"beginning\", \"start\", \"finish\", \"complete\", \"partial\", \"whole\", \"entire\", \"total\",\n",
        "    \"language\", \"words\", \"vocabulary\", \"terminology\", \"jargon\", \"slang\", \"dialect\", \"accent\", \"pronunciation\",\n",
        "    \"grammar\", \"syntax\", \"structure\", \"format\", \"style\", \"tone\", \"mood\", \"attitude\", \"feeling\", \"emotion\",\n",
        "    \"written\", \"spoken\", \"verbal\", \"nonverbal\", \"body\", \"language\", \"gesture\", \"facial\", \"expression\", \"eye\",\n",
        "    \"contact\", \"posture\", \"stance\", \"position\", \"distance\", \"proximity\", \"closeness\", \"intimacy\", \"formality\",\n",
        "    \"informality\", \"casual\", \"professional\", \"official\", \"unofficial\", \"public\", \"private\", \"personal\", \"intimate\"\n",
        "]\n",
        "\n",
        "data[\"communication_density\"] = data[\"prompt\"].str.lower().apply(\n",
        "    lambda x: sum(1 for keyword in communication_keywords if keyword in x) / len(x.split()) if x.split() else 0\n",
        ")\n"
      ]
    },
    {
      "cell_type": "code",
      "execution_count": null,
      "metadata": {},
      "outputs": [],
      "source": [
        "# add emotional_psychological_density to data\n",
        "emotional_psychological_keywords = [\n",
        "    \"emotion\", \"feeling\", \"mood\", \"attitude\", \"personality\", \"character\", \"behavior\", \"reaction\", \"response\", \n",
        "    \"motivation\", \"inspiration\", \"confidence\", \"anxiety\", \"stress\", \"pressure\", \"comfort\", \"satisfaction\", \n",
        "    \"disappointment\", \"frustration\", \"excitement\", \"happiness\", \"joy\", \"pleasure\", \"delight\", \"satisfaction\",\n",
        "    \"contentment\", \"fulfillment\", \"achievement\", \"pride\", \"accomplishment\", \"success\", \"victory\", \"triumph\",\n",
        "    \"sadness\", \"sorrow\", \"grief\", \"mourning\", \"loss\", \"bereavement\", \"depression\", \"melancholy\", \"despair\",\n",
        "    \"hopelessness\", \"helplessness\", \"powerlessness\", \"vulnerability\", \"fragility\", \"sensitivity\", \"tenderness\",\n",
        "    \"anger\", \"rage\", \"fury\", \"wrath\", \"irritation\", \"annoyance\", \"frustration\", \"resentment\", \"bitterness\",\n",
        "    \"hatred\", \"hostility\", \"aggression\", \"violence\", \"conflict\", \"tension\", \"strain\", \"pressure\", \"burden\",\n",
        "    \"fear\", \"anxiety\", \"worry\", \"concern\", \"apprehension\", \"dread\", \"terror\", \"panic\", \"alarm\", \"distress\",\n",
        "    \"shame\", \"guilt\", \"regret\", \"remorse\", \"embarrassment\", \"humiliation\", \"disgrace\", \"dishonor\", \"disgrace\",\n",
        "    \"love\", \"affection\", \"tenderness\", \"caring\", \"compassion\", \"empathy\", \"sympathy\", \"understanding\", \"support\",\n",
        "    \"jealousy\", \"envy\", \"covetousness\", \"greed\", \"selfishness\", \"selflessness\", \"altruism\", \"generosity\",\n",
        "    \"kindness\", \"goodness\", \"virtue\", \"morality\", \"ethics\", \"values\", \"principles\", \"beliefs\", \"convictions\",\n",
        "    \"faith\", \"trust\", \"hope\", \"optimism\", \"pessimism\", \"cynicism\", \"skepticism\", \"doubt\", \"uncertainty\"\n",
        "]\n",
        "\n",
        "data[\"emotional_psychological_density\"] = data[\"prompt\"].str.lower().apply(\n",
        "    lambda x: sum(1 for keyword in emotional_psychological_keywords if keyword in x) / len(x.split()) if x.split() else 0\n",
        ")\n"
      ]
    },
    {
      "cell_type": "code",
      "execution_count": null,
      "metadata": {},
      "outputs": [],
      "source": [
        "# add decision_making_density to data\n",
        "decision_making_keywords = [\n",
        "    \"decision\", \"choice\", \"option\", \"alternative\", \"preference\", \"priority\", \"consideration\", \"factor\", \n",
        "    \"criteria\", \"standard\", \"requirement\", \"condition\", \"constraint\", \"limitation\", \"advantage\", \"disadvantage\", \n",
        "    \"benefit\", \"risk\", \"consequence\", \"outcome\", \"result\", \"effect\", \"impact\", \"influence\", \"determine\",\n",
        "    \"decide\", \"choose\", \"select\", \"pick\", \"elect\", \"vote\", \"favor\", \"prefer\", \"recommend\", \"suggest\",\n",
        "    \"advise\", \"counsel\", \"guide\", \"direct\", \"lead\", \"manage\", \"control\", \"govern\", \"rule\", \"regulate\",\n",
        "    \"judgment\", \"assessment\", \"evaluation\", \"appraisal\", \"estimation\", \"calculation\", \"computation\", \"analysis\",\n",
        "    \"examination\", \"investigation\", \"research\", \"study\", \"exploration\", \"inquiry\", \"question\", \"query\",\n",
        "    \"weigh\", \"balance\", \"compare\", \"contrast\", \"distinguish\", \"differentiate\", \"separate\", \"divide\",\n",
        "    \"categorize\", \"classify\", \"organize\", \"arrange\", \"order\", \"rank\", \"rate\", \"score\", \"grade\", \"mark\",\n",
        "    \"important\", \"significant\", \"relevant\", \"pertinent\", \"applicable\", \"suitable\", \"appropriate\", \"fitting\",\n",
        "    \"necessary\", \"essential\", \"required\", \"mandatory\", \"optional\", \"voluntary\", \"discretionary\", \"flexible\",\n",
        "    \"rigid\", \"strict\", \"lenient\", \"permissive\", \"restrictive\", \"limiting\", \"constraining\", \"binding\"\n",
        "]\n",
        "\n",
        "data[\"decision_making_density\"] = data[\"prompt\"].str.lower().apply(\n",
        "    lambda x: sum(1 for keyword in decision_making_keywords if keyword in x) / len(x.split()) if x.split() else 0\n",
        ")\n"
      ]
    },
    {
      "cell_type": "code",
      "execution_count": null,
      "metadata": {},
      "outputs": [],
      "source": [
        "# add time_change_density to data\n",
        "time_change_keywords = [\n",
        "    \"time\", \"moment\", \"period\", \"duration\", \"schedule\", \"timeline\", \"deadline\", \"change\", \"development\", \n",
        "    \"progress\", \"improvement\", \"growth\", \"evolution\", \"transformation\", \"transition\", \"shift\", \"trend\", \n",
        "    \"pattern\", \"cycle\", \"phase\", \"stage\", \"step\", \"level\", \"degree\", \"extent\", \"scope\", \"range\", \"scale\",\n",
        "    \"before\", \"after\", \"during\", \"while\", \"since\", \"until\", \"when\", \"then\", \"now\", \"past\", \"present\", \"future\",\n",
        "    \"early\", \"late\", \"soon\", \"recently\", \"previously\", \"originally\", \"initially\", \"finally\", \"ultimately\",\n",
        "    \"eventually\", \"gradually\", \"suddenly\", \"immediately\", \"instantly\", \"quickly\", \"slowly\", \"rapidly\", \"swiftly\",\n",
        "    \"temporarily\", \"permanently\", \"constantly\", \"continuously\", \"intermittently\", \"occasionally\", \"frequently\",\n",
        "    \"rarely\", \"never\", \"always\", \"sometimes\", \"often\", \"usually\", \"typically\", \"normally\", \"regularly\",\n",
        "    \"irregularly\", \"sporadically\", \"randomly\", \"systematically\", \"methodically\", \"carefully\", \"hastily\",\n",
        "    \"urgently\", \"emergently\", \"critically\", \"importantly\", \"significantly\", \"substantially\", \"considerably\",\n",
        "    \"slightly\", \"moderately\", \"greatly\", \"enormously\", \"tremendously\", \"vastly\", \"dramatically\", \"radically\",\n",
        "    \"completely\", \"totally\", \"entirely\", \"fully\", \"partially\", \"incompletely\", \"unfinished\", \"ongoing\", \"active\"\n",
        "]\n",
        "\n",
        "data[\"time_change_density\"] = data[\"prompt\"].str.lower().apply(\n",
        "    lambda x: sum(1 for keyword in time_change_keywords if keyword in x) / len(x.split()) if x.split() else 0\n",
        ")\n"
      ]
    },
    {
      "cell_type": "code",
      "execution_count": null,
      "metadata": {},
      "outputs": [],
      "source": [
        "# add semantic_category_diversity to data\n",
        "data[\"semantic_category_diversity\"] = [\n",
        "    len({token.pos_ for token in doc}) if len(doc) > 0 else 0\n",
        "    for doc in nlp.pipe(data[\"prompt\"], disable=[\"tagger\", \"parser\"])\n",
        "]\n"
      ]
    },
    {
      "cell_type": "code",
      "execution_count": null,
      "metadata": {},
      "outputs": [],
      "source": [
        "# Save the modified data to energy_features_dataset.jsonl\n",
        "data.to_json('energy_features_dataset.jsonl', orient='records', lines=True)\n"
      ]
    }
  ],
  "metadata": {
    "language_info": {
      "name": "python"
    }
  },
  "nbformat": 4,
  "nbformat_minor": 2
}
